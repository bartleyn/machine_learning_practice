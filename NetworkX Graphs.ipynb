{
 "cells": [
  {
   "cell_type": "code",
   "execution_count": 5,
   "metadata": {
    "collapsed": true
   },
   "outputs": [],
   "source": [
    "import networkx as nx\n",
    "import matplotlib.pyplot as plt\n",
    "\n",
    "'''\n",
    "    Default tutorial\n",
    "'''\n",
    "def draw_graph(graph):\n",
    "\n",
    "    # extract nodes from graph\n",
    "    nodes = set([n1 for n1, n2 in graph] + [n2 for n1, n2 in graph])\n",
    "\n",
    "    # create networkx graph\n",
    "    G=nx.Graph()\n",
    "\n",
    "    # add nodes\n",
    "    for node in nodes:\n",
    "        G.add_node(node)\n",
    "\n",
    "    # add edges\n",
    "    for edge in graph:\n",
    "        G.add_edge(edge[0], edge[1])\n",
    "\n",
    "    # draw graph\n",
    "    pos = nx.shell_layout(G)\n",
    "    nx.draw(G, pos)\n",
    "\n",
    "    # show graph\n",
    "    plt.show()\n",
    "\n",
    "# draw example\n",
    "graph = [(20, 21),(21, 22),(22, 23), (23, 24),(24, 25), (25, 20)]\n",
    "draw_graph(graph)"
   ]
  },
  {
   "cell_type": "code",
   "execution_count": 4,
   "metadata": {
    "collapsed": true
   },
   "outputs": [],
   "source": [
    "\"\"\"\n",
    "Draw a graph with matplotlib, color by degree.\n",
    "You must have matplotlib for this to work.\n",
    "\"\"\"\n",
    "\n",
    "\n",
    "try:\n",
    "    import matplotlib.pyplot as plt\n",
    "except:\n",
    "    raise\n",
    "import networkx as nx\n",
    "\n",
    "\n",
    "G=nx.cycle_graph(24)\n",
    "pos=nx.spring_layout(G,iterations=200)\n",
    "nx.draw(G,pos,node_color=range(24),node_size=800,cmap=plt.cm.Blues)\n",
    "plt.savefig(\"node_colormap.png\") # save as png\n",
    "plt.show() # display"
   ]
  },
  {
   "cell_type": "code",
   "execution_count": null,
   "metadata": {
    "collapsed": true
   },
   "outputs": [],
   "source": []
  },
  {
   "cell_type": "code",
   "execution_count": 13,
   "metadata": {
    "collapsed": false
   },
   "outputs": [],
   "source": [
    "import networkx as nx\n",
    "import matplotlib.pyplot as plt\n",
    "from sklearn.feature_extraction.text import TfidfVectorizer\n",
    "import numpy as np\n",
    "\n",
    "\n",
    "def draw_graph(graph):\n",
    "\n",
    "\n",
    "    # create networkx graph\n",
    "    G=nx.Graph()\n",
    "\n",
    "    # add edges\n",
    "    for row_ix in xrange(graph.shape[0]):\n",
    "        cur_row = graph.getrow(row_ix)\n",
    "        max_sim_ix = 0\n",
    "        max_sim = 0\n",
    "        for row_ix_2 in xrange(graph.shape[0]):\n",
    "            if row_ix == row_ix_2:\n",
    "                continue\n",
    "            other_row = graph.getrow(row_ix_2)\n",
    "            sim = cur_row.dot(other_row.T).A\n",
    "            #print sim\n",
    "            if sim >= max_sim:\n",
    "                max_sim = sim\n",
    "                max_sim_ix = row_ix_2\n",
    "        G.add_edge(row_ix, max_sim_ix, object=sents[row_ix])\n",
    "\n",
    "    labels = {}\n",
    "    for row_ix in xrange(graph.shape[0]):\n",
    "        \n",
    "        labels[row_ix] = sents[row_ix].split()[1]\n",
    "        \n",
    "    \n",
    "\n",
    "    # draw graph\n",
    "    pos = nx.spring_layout(G, iterations=2000)\n",
    "    nx.draw(G, pos)\n",
    "    nx.draw_networkx_labels(G,pos,labels,font_size=16)\n",
    "\n",
    "    # show graph\n",
    "    plt.show()\n",
    "    #plt.savefig(\"node_colormap.png\") # save as png\n",
    "\n",
    "\n",
    "vectorizer = TfidfVectorizer(stop_words='english')\n",
    "vectorizer.fit(sents)\n",
    "\n",
    "res = vectorizer.transform(sents)\n",
    "\n",
    "# draw example\n",
    "graph = res\n",
    "draw_graph(graph)"
   ]
  },
  {
   "cell_type": "code",
   "execution_count": 8,
   "metadata": {
    "collapsed": true
   },
   "outputs": [],
   "source": [
    "sents = ['I love dogs a lot', \n",
    "         'Maybe I love dogs much',\n",
    "         'I hate cats',\n",
    "         'I will go to school',\n",
    "         'dogs dogs dogs',\n",
    "         'cats cats cats',\n",
    "         'You be too',\n",
    "         'b too be You']"
   ]
  },
  {
   "cell_type": "code",
   "execution_count": 22,
   "metadata": {
    "collapsed": false
   },
   "outputs": [],
   "source": [
    "\n",
    "try:\n",
    "    import matplotlib.pyplot as plt\n",
    "except:\n",
    "    raise\n",
    "import networkx as nx\n",
    "\n",
    "\n",
    "G=nx.Graph()\n",
    "for sent in sents:\n",
    "    words = sent.split()\n",
    "    prev = words[0]\n",
    "    for ix in xrange(1, len(words)):\n",
    "        G.add_edge(prev, words[ix])\n",
    "        prev = words[ix]\n",
    "        \n",
    "pos=nx.spring_layout(G,iterations=2000)\n",
    "nx.draw(G,pos,node_size=800,cmap=plt.cm.Blues)\n",
    "plt.show() # display"
   ]
  },
  {
   "cell_type": "code",
   "execution_count": 11,
   "metadata": {
    "collapsed": false
   },
   "outputs": [],
   "source": [
    "try:\n",
    "    import matplotlib.pyplot as plt\n",
    "except:\n",
    "    raise\n",
    "import networkx as nx\n",
    "\n",
    "labels = {}\n",
    "G=nx.Graph()\n",
    "for sent in sents:\n",
    "    words = sent.split()\n",
    "    for word in words:\n",
    "        G.add_node(word)\n",
    "        labels[word] = word\n",
    "        for sent_ in sents:\n",
    "            if sent_ == sent:\n",
    "                continue\n",
    "            other_words = sent_.split()\n",
    "            for other_word in other_words:\n",
    "                if other_word in words:\n",
    "                    \n",
    "                    G.add_edge(word, other_word)\n",
    "                    \n",
    "                    \n",
    "pos=nx.spring_layout(G, iterations=750, k=3/(len(G.nodes()) ** -0.5))\n",
    "nx.draw(G,pos,node_size=800,cmap=plt.cm.Blues)\n",
    "nx.draw_networkx_labels(G,pos,labels,font_size=16)\n",
    "\n",
    "plt.show() # display"
   ]
  },
  {
   "cell_type": "code",
   "execution_count": null,
   "metadata": {
    "collapsed": true
   },
   "outputs": [],
   "source": []
  }
 ],
 "metadata": {
  "kernelspec": {
   "display_name": "Python 2",
   "language": "python",
   "name": "python2"
  },
  "language_info": {
   "codemirror_mode": {
    "name": "ipython",
    "version": 2
   },
   "file_extension": ".py",
   "mimetype": "text/x-python",
   "name": "python",
   "nbconvert_exporter": "python",
   "pygments_lexer": "ipython2",
   "version": "2.7.2"
  }
 },
 "nbformat": 4,
 "nbformat_minor": 0
}
