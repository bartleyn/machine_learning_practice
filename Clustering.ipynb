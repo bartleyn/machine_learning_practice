{
 "metadata": {
  "name": "",
  "signature": "sha256:311542598a179ddd2de1ef29c247e9d4c3398d318111f52a397cad3d15d86486"
 },
 "nbformat": 3,
 "nbformat_minor": 0,
 "worksheets": [
  {
   "cells": [
    {
     "cell_type": "code",
     "collapsed": false,
     "input": [
      "import pandas as pd\n",
      "import numpy as np\n",
      "import random\n",
      "import numpy.random as rand\n",
      "import math\n",
      "import six\n",
      "\n",
      "def dist(vec1, vec2):\n",
      "    sum_ = 0\n",
      "    for col in xrange(len(vec1)):\n",
      "\n",
      "        if isinstance(vec1[col], six.string_types) or isinstance(vec2[col], six.string_types):\n",
      "            vec1[col] = 0\n",
      "            vec2[col] = 0\n",
      "        \n",
      "        vec1_col = float(vec1[col])\n",
      "        vec2_col = float(vec2[col])\n",
      "        sum_ += (vec1_col - vec2_col) ** 2\n",
      "    return math.sqrt(sum_)\n",
      "        \n",
      "    \n",
      "\n",
      "def cluster(instances, k):\n",
      "    #print instances\n",
      "    print len(instances)\n",
      "    assignments = np.zeros(len(instances))\n",
      "    old_centroids = np.array([])\n",
      "    centroid_indx = rand.choice(instances.index, size=k)\n",
      "    centroids = np.array([instances.ix[x] for x in centroid_indx])\n",
      "    while centroids.all() != old_centroids.all():\n",
      "        print \"iteration\"\n",
      "        old_centroids = centroids\n",
      "        \n",
      "        #make assignments\n",
      "        for instance_ix in instances.index:\n",
      "            instance = instances.ix[instance_ix]\n",
      "            min_dist = 100000000\n",
      "            min_assignment = -1\n",
      "            indexer = 0\n",
      "            for centroid in centroids:\n",
      "                dist_ = dist(centroid, instance)\n",
      "                if dist_ <= min_dist:\n",
      "                    min_assignment = indexer\n",
      "                    min_dist = dist_\n",
      "                    continue\n",
      "                indexer += 1\n",
      "            #print min_assignment\n",
      "            assignments[instance_ix] = min_assignment\n",
      "        #print assignments\n",
      "        print \"assigned\"\n",
      "        #update centroids\n",
      "        #for each unique assignment value get all the points\n",
      "        #take the mean\n",
      "        #assign as centroid for that assignment value\n",
      "        for value in np.unique(assignments):\n",
      "            cluster_points = instances.ix[assignments[np.where(assignments==value)]]\n",
      "            new_centroid = pd.DataFrame(columns=instances.columns, index=[0])\n",
      "            for col in instances.columns:\n",
      "                if isinstance(instances.ix[1][col], six.string_types):\n",
      "                    continue\n",
      "                column = cluster_points[col]\n",
      "                new_centroid.ix[0][col] = column.mean()\n",
      "            centroids[value] = new_centroid\n",
      "    print centroids\n",
      "                \n",
      "                \n",
      "    "
     ],
     "language": "python",
     "metadata": {},
     "outputs": [],
     "prompt_number": 58
    },
    {
     "cell_type": "code",
     "collapsed": false,
     "input": [
      "cluster(pd.read_csv('sample_data.csv'), 2)"
     ],
     "language": "python",
     "metadata": {},
     "outputs": [
      {
       "output_type": "stream",
       "stream": "stdout",
       "text": [
        "1000\n",
        "iteration\n",
        "assigned"
       ]
      },
      {
       "output_type": "stream",
       "stream": "stdout",
       "text": [
        "\n",
        "[[60.0 79.0 170.0 nan]\n",
        " [18 106 137 0]]\n"
       ]
      }
     ],
     "prompt_number": 59
    },
    {
     "cell_type": "code",
     "collapsed": false,
     "input": [
      "import random\n",
      "\n",
      "def gen_random_data(num):\n",
      "    f = open('sample_data.csv', 'w+')\n",
      "    f.write('age,height,weight,cancer\\n')\n",
      "    i = 0\n",
      "    while i < num:\n",
      "        age = random.randrange(10, 70, 1)\n",
      "        height = random.randrange(70, 210, 1)\n",
      "        weight = random.randrange(130, 225, 1)\n",
      "        cancer = random.randint(0,1)\n",
      "        if cancer == 1:\n",
      "            cancer_str = 'yes'\n",
      "        else:\n",
      "            cancer_str = 'no'\n",
      "        f.write(str(age) + ',' + str(height) + ',' + str(weight) + ',' + str(cancer_str) + '\\n')\n",
      "        i += 1\n",
      "    f.close()\n",
      "gen_random_data(1000)"
     ],
     "language": "python",
     "metadata": {},
     "outputs": [],
     "prompt_number": 21
    },
    {
     "cell_type": "code",
     "collapsed": false,
     "input": [],
     "language": "python",
     "metadata": {},
     "outputs": []
    }
   ],
   "metadata": {}
  }
 ]
}