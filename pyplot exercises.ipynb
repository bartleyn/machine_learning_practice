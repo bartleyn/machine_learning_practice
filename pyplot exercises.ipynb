{
 "metadata": {
  "name": "",
  "signature": "sha256:6cee16f1bbb7ed886a3177daa7f3ece9a151ffcf1fe10fc648bd80cb1b0d1db5"
 },
 "nbformat": 3,
 "nbformat_minor": 0,
 "worksheets": [
  {
   "cells": [
    {
     "cell_type": "code",
     "collapsed": false,
     "input": [
      "import matplotlib.pyplot as plt\n",
      "import numpy as np\n",
      "\n",
      "#Generate 2-D data\n",
      "values = np.random.rand(100, 2)\n",
      "\n",
      "#Choose a colormap\n",
      "cmap = plt.cm.winter\n",
      "\n",
      "#Plot your X, Y, use a vector for your color values, and choose a cmap\n",
      "#vmin and vmax constrain the values that the color range takes\n",
      "fig = plt.scatter(values[:,0], values[:,1], c=values[:,0], cmap=cmap , vmin=0.25, vmax=0.75)\n",
      "plt.colorbar(ticks=[0.25, 0.5, 0.75])\n",
      "plt.title(\"HI\")\n",
      "plt.show()"
     ],
     "language": "python",
     "metadata": {},
     "outputs": [],
     "prompt_number": 1
    },
    {
     "cell_type": "code",
     "collapsed": false,
     "input": [],
     "language": "python",
     "metadata": {},
     "outputs": []
    }
   ],
   "metadata": {}
  }
 ]
}