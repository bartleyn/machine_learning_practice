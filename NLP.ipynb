{
 "metadata": {
  "name": "",
  "signature": "sha256:ad581c36a2cc588c59c453535c3d7b13b6883824bf5548a49081ec37da4d8b5d"
 },
 "nbformat": 3,
 "nbformat_minor": 0,
 "worksheets": [
  {
   "cells": [
    {
     "cell_type": "code",
     "collapsed": false,
     "input": [
      "#tfidf\n",
      "\n",
      "def tf(word, doc):\n",
      "    doc_split = doc.lower().split()\n",
      "    counts = sum([1.0 for x in doc_split if x == word])\n",
      "    return sum([1.0 for x in doc_split if x == word]) / float(len(doc_split))\n",
      "\n",
      "def n_docs_containing_word(word, docs_list):\n",
      "    return sum([1 for word in docs_list if word in doc])\n"
     ],
     "language": "python",
     "metadata": {},
     "outputs": [],
     "prompt_number": 16
    },
    {
     "cell_type": "code",
     "collapsed": false,
     "input": [
      "print tf(\"cat\", \" \".join(\"dog cat dog dog dog. dog\".split('.')))"
     ],
     "language": "python",
     "metadata": {},
     "outputs": [
      {
       "output_type": "stream",
       "stream": "stdout",
       "text": [
        "0.166666666667\n"
       ]
      }
     ],
     "prompt_number": 15
    },
    {
     "cell_type": "code",
     "collapsed": false,
     "input": [],
     "language": "python",
     "metadata": {},
     "outputs": []
    }
   ],
   "metadata": {}
  }
 ]
}