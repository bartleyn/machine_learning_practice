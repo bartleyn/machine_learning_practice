{
  "nbformat": 4,
  "nbformat_minor": 0,
  "metadata": {
    "colab": {
      "name": "Scaling_TablePipelines.ipynb",
      "provenance": [],
      "authorship_tag": "ABX9TyNntD9SZ3SLsy2JnZBKdKrz",
      "include_colab_link": true
    },
    "kernelspec": {
      "name": "python3",
      "display_name": "Python 3"
    },
    "language_info": {
      "name": "python"
    },
    "widgets": {
      "application/vnd.jupyter.widget-state+json": {
        "a039765ae7b04732bf905a408152ca3c": {
          "model_module": "@jupyter-widgets/controls",
          "model_name": "HBoxModel",
          "state": {
            "_view_name": "HBoxView",
            "_dom_classes": [],
            "_model_name": "HBoxModel",
            "_view_module": "@jupyter-widgets/controls",
            "_model_module_version": "1.5.0",
            "_view_count": null,
            "_view_module_version": "1.5.0",
            "box_style": "",
            "layout": "IPY_MODEL_4a58aa3f7c984e5ab820d483632ca654",
            "_model_module": "@jupyter-widgets/controls",
            "children": [
              "IPY_MODEL_8d755415cb2641a5856076f39abeb676",
              "IPY_MODEL_18bcd93177f949c5974664a88d6a53c7"
            ]
          }
        },
        "4a58aa3f7c984e5ab820d483632ca654": {
          "model_module": "@jupyter-widgets/base",
          "model_name": "LayoutModel",
          "state": {
            "_view_name": "LayoutView",
            "grid_template_rows": null,
            "right": null,
            "justify_content": null,
            "_view_module": "@jupyter-widgets/base",
            "overflow": null,
            "_model_module_version": "1.2.0",
            "_view_count": null,
            "flex_flow": null,
            "width": null,
            "min_width": null,
            "border": null,
            "align_items": null,
            "bottom": null,
            "_model_module": "@jupyter-widgets/base",
            "top": null,
            "grid_column": null,
            "overflow_y": null,
            "overflow_x": null,
            "grid_auto_flow": null,
            "grid_area": null,
            "grid_template_columns": null,
            "flex": null,
            "_model_name": "LayoutModel",
            "justify_items": null,
            "grid_row": null,
            "max_height": null,
            "align_content": null,
            "visibility": null,
            "align_self": null,
            "height": null,
            "min_height": null,
            "padding": null,
            "grid_auto_rows": null,
            "grid_gap": null,
            "max_width": null,
            "order": null,
            "_view_module_version": "1.2.0",
            "grid_template_areas": null,
            "object_position": null,
            "object_fit": null,
            "grid_auto_columns": null,
            "margin": null,
            "display": null,
            "left": null
          }
        },
        "8d755415cb2641a5856076f39abeb676": {
          "model_module": "@jupyter-widgets/controls",
          "model_name": "FloatProgressModel",
          "state": {
            "_view_name": "ProgressView",
            "style": "IPY_MODEL_73f69b1e7934433fad7aebadd7112a6f",
            "_dom_classes": [],
            "description": "Downloading: 100%",
            "_model_name": "FloatProgressModel",
            "bar_style": "success",
            "max": 1629,
            "_view_module": "@jupyter-widgets/controls",
            "_model_module_version": "1.5.0",
            "value": 1629,
            "_view_count": null,
            "_view_module_version": "1.5.0",
            "orientation": "horizontal",
            "min": 0,
            "description_tooltip": null,
            "_model_module": "@jupyter-widgets/controls",
            "layout": "IPY_MODEL_51aba845188546a2950ddf5e1ff0c2f4"
          }
        },
        "18bcd93177f949c5974664a88d6a53c7": {
          "model_module": "@jupyter-widgets/controls",
          "model_name": "HTMLModel",
          "state": {
            "_view_name": "HTMLView",
            "style": "IPY_MODEL_a9b2d9d24f174672b8fd9f4e69b8a584",
            "_dom_classes": [],
            "description": "",
            "_model_name": "HTMLModel",
            "placeholder": "​",
            "_view_module": "@jupyter-widgets/controls",
            "_model_module_version": "1.5.0",
            "value": " 1.63k/1.63k [00:00&lt;00:00, 2.49kB/s]",
            "_view_count": null,
            "_view_module_version": "1.5.0",
            "description_tooltip": null,
            "_model_module": "@jupyter-widgets/controls",
            "layout": "IPY_MODEL_668837ef59f84ffeb73d0909912bb0a8"
          }
        },
        "73f69b1e7934433fad7aebadd7112a6f": {
          "model_module": "@jupyter-widgets/controls",
          "model_name": "ProgressStyleModel",
          "state": {
            "_view_name": "StyleView",
            "_model_name": "ProgressStyleModel",
            "description_width": "initial",
            "_view_module": "@jupyter-widgets/base",
            "_model_module_version": "1.5.0",
            "_view_count": null,
            "_view_module_version": "1.2.0",
            "bar_color": null,
            "_model_module": "@jupyter-widgets/controls"
          }
        },
        "51aba845188546a2950ddf5e1ff0c2f4": {
          "model_module": "@jupyter-widgets/base",
          "model_name": "LayoutModel",
          "state": {
            "_view_name": "LayoutView",
            "grid_template_rows": null,
            "right": null,
            "justify_content": null,
            "_view_module": "@jupyter-widgets/base",
            "overflow": null,
            "_model_module_version": "1.2.0",
            "_view_count": null,
            "flex_flow": null,
            "width": null,
            "min_width": null,
            "border": null,
            "align_items": null,
            "bottom": null,
            "_model_module": "@jupyter-widgets/base",
            "top": null,
            "grid_column": null,
            "overflow_y": null,
            "overflow_x": null,
            "grid_auto_flow": null,
            "grid_area": null,
            "grid_template_columns": null,
            "flex": null,
            "_model_name": "LayoutModel",
            "justify_items": null,
            "grid_row": null,
            "max_height": null,
            "align_content": null,
            "visibility": null,
            "align_self": null,
            "height": null,
            "min_height": null,
            "padding": null,
            "grid_auto_rows": null,
            "grid_gap": null,
            "max_width": null,
            "order": null,
            "_view_module_version": "1.2.0",
            "grid_template_areas": null,
            "object_position": null,
            "object_fit": null,
            "grid_auto_columns": null,
            "margin": null,
            "display": null,
            "left": null
          }
        },
        "a9b2d9d24f174672b8fd9f4e69b8a584": {
          "model_module": "@jupyter-widgets/controls",
          "model_name": "DescriptionStyleModel",
          "state": {
            "_view_name": "StyleView",
            "_model_name": "DescriptionStyleModel",
            "description_width": "",
            "_view_module": "@jupyter-widgets/base",
            "_model_module_version": "1.5.0",
            "_view_count": null,
            "_view_module_version": "1.2.0",
            "_model_module": "@jupyter-widgets/controls"
          }
        },
        "668837ef59f84ffeb73d0909912bb0a8": {
          "model_module": "@jupyter-widgets/base",
          "model_name": "LayoutModel",
          "state": {
            "_view_name": "LayoutView",
            "grid_template_rows": null,
            "right": null,
            "justify_content": null,
            "_view_module": "@jupyter-widgets/base",
            "overflow": null,
            "_model_module_version": "1.2.0",
            "_view_count": null,
            "flex_flow": null,
            "width": null,
            "min_width": null,
            "border": null,
            "align_items": null,
            "bottom": null,
            "_model_module": "@jupyter-widgets/base",
            "top": null,
            "grid_column": null,
            "overflow_y": null,
            "overflow_x": null,
            "grid_auto_flow": null,
            "grid_area": null,
            "grid_template_columns": null,
            "flex": null,
            "_model_name": "LayoutModel",
            "justify_items": null,
            "grid_row": null,
            "max_height": null,
            "align_content": null,
            "visibility": null,
            "align_self": null,
            "height": null,
            "min_height": null,
            "padding": null,
            "grid_auto_rows": null,
            "grid_gap": null,
            "max_width": null,
            "order": null,
            "_view_module_version": "1.2.0",
            "grid_template_areas": null,
            "object_position": null,
            "object_fit": null,
            "grid_auto_columns": null,
            "margin": null,
            "display": null,
            "left": null
          }
        },
        "580fa2b3bd3846829b6896cbc7de914f": {
          "model_module": "@jupyter-widgets/controls",
          "model_name": "HBoxModel",
          "state": {
            "_view_name": "HBoxView",
            "_dom_classes": [],
            "_model_name": "HBoxModel",
            "_view_module": "@jupyter-widgets/controls",
            "_model_module_version": "1.5.0",
            "_view_count": null,
            "_view_module_version": "1.5.0",
            "box_style": "",
            "layout": "IPY_MODEL_11ac313709d742eaa909c223b41ad2fa",
            "_model_module": "@jupyter-widgets/controls",
            "children": [
              "IPY_MODEL_e1994b1e11f643b39f9080b29ddbb3b4",
              "IPY_MODEL_8fe8c95db83d43db87b08b9501fcc078"
            ]
          }
        },
        "11ac313709d742eaa909c223b41ad2fa": {
          "model_module": "@jupyter-widgets/base",
          "model_name": "LayoutModel",
          "state": {
            "_view_name": "LayoutView",
            "grid_template_rows": null,
            "right": null,
            "justify_content": null,
            "_view_module": "@jupyter-widgets/base",
            "overflow": null,
            "_model_module_version": "1.2.0",
            "_view_count": null,
            "flex_flow": null,
            "width": null,
            "min_width": null,
            "border": null,
            "align_items": null,
            "bottom": null,
            "_model_module": "@jupyter-widgets/base",
            "top": null,
            "grid_column": null,
            "overflow_y": null,
            "overflow_x": null,
            "grid_auto_flow": null,
            "grid_area": null,
            "grid_template_columns": null,
            "flex": null,
            "_model_name": "LayoutModel",
            "justify_items": null,
            "grid_row": null,
            "max_height": null,
            "align_content": null,
            "visibility": null,
            "align_self": null,
            "height": null,
            "min_height": null,
            "padding": null,
            "grid_auto_rows": null,
            "grid_gap": null,
            "max_width": null,
            "order": null,
            "_view_module_version": "1.2.0",
            "grid_template_areas": null,
            "object_position": null,
            "object_fit": null,
            "grid_auto_columns": null,
            "margin": null,
            "display": null,
            "left": null
          }
        },
        "e1994b1e11f643b39f9080b29ddbb3b4": {
          "model_module": "@jupyter-widgets/controls",
          "model_name": "FloatProgressModel",
          "state": {
            "_view_name": "ProgressView",
            "style": "IPY_MODEL_2892b76a457a46ae890983289a9a906b",
            "_dom_classes": [],
            "description": "Downloading: 100%",
            "_model_name": "FloatProgressModel",
            "bar_style": "success",
            "max": 262028,
            "_view_module": "@jupyter-widgets/controls",
            "_model_module_version": "1.5.0",
            "value": 262028,
            "_view_count": null,
            "_view_module_version": "1.5.0",
            "orientation": "horizontal",
            "min": 0,
            "description_tooltip": null,
            "_model_module": "@jupyter-widgets/controls",
            "layout": "IPY_MODEL_f24050b2b9994e1d8c12f660624515b0"
          }
        },
        "8fe8c95db83d43db87b08b9501fcc078": {
          "model_module": "@jupyter-widgets/controls",
          "model_name": "HTMLModel",
          "state": {
            "_view_name": "HTMLView",
            "style": "IPY_MODEL_ae23ebf6a18240e4839d46d6e9765e56",
            "_dom_classes": [],
            "description": "",
            "_model_name": "HTMLModel",
            "placeholder": "​",
            "_view_module": "@jupyter-widgets/controls",
            "_model_module_version": "1.5.0",
            "value": " 262k/262k [00:00&lt;00:00, 1.80MB/s]",
            "_view_count": null,
            "_view_module_version": "1.5.0",
            "description_tooltip": null,
            "_model_module": "@jupyter-widgets/controls",
            "layout": "IPY_MODEL_53d160c9a2b442e087ffc3359f4f2de6"
          }
        },
        "2892b76a457a46ae890983289a9a906b": {
          "model_module": "@jupyter-widgets/controls",
          "model_name": "ProgressStyleModel",
          "state": {
            "_view_name": "StyleView",
            "_model_name": "ProgressStyleModel",
            "description_width": "initial",
            "_view_module": "@jupyter-widgets/base",
            "_model_module_version": "1.5.0",
            "_view_count": null,
            "_view_module_version": "1.2.0",
            "bar_color": null,
            "_model_module": "@jupyter-widgets/controls"
          }
        },
        "f24050b2b9994e1d8c12f660624515b0": {
          "model_module": "@jupyter-widgets/base",
          "model_name": "LayoutModel",
          "state": {
            "_view_name": "LayoutView",
            "grid_template_rows": null,
            "right": null,
            "justify_content": null,
            "_view_module": "@jupyter-widgets/base",
            "overflow": null,
            "_model_module_version": "1.2.0",
            "_view_count": null,
            "flex_flow": null,
            "width": null,
            "min_width": null,
            "border": null,
            "align_items": null,
            "bottom": null,
            "_model_module": "@jupyter-widgets/base",
            "top": null,
            "grid_column": null,
            "overflow_y": null,
            "overflow_x": null,
            "grid_auto_flow": null,
            "grid_area": null,
            "grid_template_columns": null,
            "flex": null,
            "_model_name": "LayoutModel",
            "justify_items": null,
            "grid_row": null,
            "max_height": null,
            "align_content": null,
            "visibility": null,
            "align_self": null,
            "height": null,
            "min_height": null,
            "padding": null,
            "grid_auto_rows": null,
            "grid_gap": null,
            "max_width": null,
            "order": null,
            "_view_module_version": "1.2.0",
            "grid_template_areas": null,
            "object_position": null,
            "object_fit": null,
            "grid_auto_columns": null,
            "margin": null,
            "display": null,
            "left": null
          }
        },
        "ae23ebf6a18240e4839d46d6e9765e56": {
          "model_module": "@jupyter-widgets/controls",
          "model_name": "DescriptionStyleModel",
          "state": {
            "_view_name": "StyleView",
            "_model_name": "DescriptionStyleModel",
            "description_width": "",
            "_view_module": "@jupyter-widgets/base",
            "_model_module_version": "1.5.0",
            "_view_count": null,
            "_view_module_version": "1.2.0",
            "_model_module": "@jupyter-widgets/controls"
          }
        },
        "53d160c9a2b442e087ffc3359f4f2de6": {
          "model_module": "@jupyter-widgets/base",
          "model_name": "LayoutModel",
          "state": {
            "_view_name": "LayoutView",
            "grid_template_rows": null,
            "right": null,
            "justify_content": null,
            "_view_module": "@jupyter-widgets/base",
            "overflow": null,
            "_model_module_version": "1.2.0",
            "_view_count": null,
            "flex_flow": null,
            "width": null,
            "min_width": null,
            "border": null,
            "align_items": null,
            "bottom": null,
            "_model_module": "@jupyter-widgets/base",
            "top": null,
            "grid_column": null,
            "overflow_y": null,
            "overflow_x": null,
            "grid_auto_flow": null,
            "grid_area": null,
            "grid_template_columns": null,
            "flex": null,
            "_model_name": "LayoutModel",
            "justify_items": null,
            "grid_row": null,
            "max_height": null,
            "align_content": null,
            "visibility": null,
            "align_self": null,
            "height": null,
            "min_height": null,
            "padding": null,
            "grid_auto_rows": null,
            "grid_gap": null,
            "max_width": null,
            "order": null,
            "_view_module_version": "1.2.0",
            "grid_template_areas": null,
            "object_position": null,
            "object_fit": null,
            "grid_auto_columns": null,
            "margin": null,
            "display": null,
            "left": null
          }
        },
        "7cefe3a006be46e3a4828468d00e29e9": {
          "model_module": "@jupyter-widgets/controls",
          "model_name": "HBoxModel",
          "state": {
            "_view_name": "HBoxView",
            "_dom_classes": [],
            "_model_name": "HBoxModel",
            "_view_module": "@jupyter-widgets/controls",
            "_model_module_version": "1.5.0",
            "_view_count": null,
            "_view_module_version": "1.5.0",
            "box_style": "",
            "layout": "IPY_MODEL_1d9c1484af584468aa032a7fdcb5ac3a",
            "_model_module": "@jupyter-widgets/controls",
            "children": [
              "IPY_MODEL_30dfa29e44274401abd0ab03d4a4220e",
              "IPY_MODEL_988d0bfa570d4317b72f86f7a4d505a5"
            ]
          }
        },
        "1d9c1484af584468aa032a7fdcb5ac3a": {
          "model_module": "@jupyter-widgets/base",
          "model_name": "LayoutModel",
          "state": {
            "_view_name": "LayoutView",
            "grid_template_rows": null,
            "right": null,
            "justify_content": null,
            "_view_module": "@jupyter-widgets/base",
            "overflow": null,
            "_model_module_version": "1.2.0",
            "_view_count": null,
            "flex_flow": null,
            "width": null,
            "min_width": null,
            "border": null,
            "align_items": null,
            "bottom": null,
            "_model_module": "@jupyter-widgets/base",
            "top": null,
            "grid_column": null,
            "overflow_y": null,
            "overflow_x": null,
            "grid_auto_flow": null,
            "grid_area": null,
            "grid_template_columns": null,
            "flex": null,
            "_model_name": "LayoutModel",
            "justify_items": null,
            "grid_row": null,
            "max_height": null,
            "align_content": null,
            "visibility": null,
            "align_self": null,
            "height": null,
            "min_height": null,
            "padding": null,
            "grid_auto_rows": null,
            "grid_gap": null,
            "max_width": null,
            "order": null,
            "_view_module_version": "1.2.0",
            "grid_template_areas": null,
            "object_position": null,
            "object_fit": null,
            "grid_auto_columns": null,
            "margin": null,
            "display": null,
            "left": null
          }
        },
        "30dfa29e44274401abd0ab03d4a4220e": {
          "model_module": "@jupyter-widgets/controls",
          "model_name": "FloatProgressModel",
          "state": {
            "_view_name": "ProgressView",
            "style": "IPY_MODEL_d36e5346d7e842ec976fdadbfd1dd74f",
            "_dom_classes": [],
            "description": "Downloading: 100%",
            "_model_name": "FloatProgressModel",
            "bar_style": "success",
            "max": 154,
            "_view_module": "@jupyter-widgets/controls",
            "_model_module_version": "1.5.0",
            "value": 154,
            "_view_count": null,
            "_view_module_version": "1.5.0",
            "orientation": "horizontal",
            "min": 0,
            "description_tooltip": null,
            "_model_module": "@jupyter-widgets/controls",
            "layout": "IPY_MODEL_c7325de735994c9a9d275395cc6694d3"
          }
        },
        "988d0bfa570d4317b72f86f7a4d505a5": {
          "model_module": "@jupyter-widgets/controls",
          "model_name": "HTMLModel",
          "state": {
            "_view_name": "HTMLView",
            "style": "IPY_MODEL_4a61d56f11074159a86b63183a251830",
            "_dom_classes": [],
            "description": "",
            "_model_name": "HTMLModel",
            "placeholder": "​",
            "_view_module": "@jupyter-widgets/controls",
            "_model_module_version": "1.5.0",
            "value": " 154/154 [00:00&lt;00:00, 229B/s]",
            "_view_count": null,
            "_view_module_version": "1.5.0",
            "description_tooltip": null,
            "_model_module": "@jupyter-widgets/controls",
            "layout": "IPY_MODEL_1f7a870488bf4e63acbce246e54c5a24"
          }
        },
        "d36e5346d7e842ec976fdadbfd1dd74f": {
          "model_module": "@jupyter-widgets/controls",
          "model_name": "ProgressStyleModel",
          "state": {
            "_view_name": "StyleView",
            "_model_name": "ProgressStyleModel",
            "description_width": "initial",
            "_view_module": "@jupyter-widgets/base",
            "_model_module_version": "1.5.0",
            "_view_count": null,
            "_view_module_version": "1.2.0",
            "bar_color": null,
            "_model_module": "@jupyter-widgets/controls"
          }
        },
        "c7325de735994c9a9d275395cc6694d3": {
          "model_module": "@jupyter-widgets/base",
          "model_name": "LayoutModel",
          "state": {
            "_view_name": "LayoutView",
            "grid_template_rows": null,
            "right": null,
            "justify_content": null,
            "_view_module": "@jupyter-widgets/base",
            "overflow": null,
            "_model_module_version": "1.2.0",
            "_view_count": null,
            "flex_flow": null,
            "width": null,
            "min_width": null,
            "border": null,
            "align_items": null,
            "bottom": null,
            "_model_module": "@jupyter-widgets/base",
            "top": null,
            "grid_column": null,
            "overflow_y": null,
            "overflow_x": null,
            "grid_auto_flow": null,
            "grid_area": null,
            "grid_template_columns": null,
            "flex": null,
            "_model_name": "LayoutModel",
            "justify_items": null,
            "grid_row": null,
            "max_height": null,
            "align_content": null,
            "visibility": null,
            "align_self": null,
            "height": null,
            "min_height": null,
            "padding": null,
            "grid_auto_rows": null,
            "grid_gap": null,
            "max_width": null,
            "order": null,
            "_view_module_version": "1.2.0",
            "grid_template_areas": null,
            "object_position": null,
            "object_fit": null,
            "grid_auto_columns": null,
            "margin": null,
            "display": null,
            "left": null
          }
        },
        "4a61d56f11074159a86b63183a251830": {
          "model_module": "@jupyter-widgets/controls",
          "model_name": "DescriptionStyleModel",
          "state": {
            "_view_name": "StyleView",
            "_model_name": "DescriptionStyleModel",
            "description_width": "",
            "_view_module": "@jupyter-widgets/base",
            "_model_module_version": "1.5.0",
            "_view_count": null,
            "_view_module_version": "1.2.0",
            "_model_module": "@jupyter-widgets/controls"
          }
        },
        "1f7a870488bf4e63acbce246e54c5a24": {
          "model_module": "@jupyter-widgets/base",
          "model_name": "LayoutModel",
          "state": {
            "_view_name": "LayoutView",
            "grid_template_rows": null,
            "right": null,
            "justify_content": null,
            "_view_module": "@jupyter-widgets/base",
            "overflow": null,
            "_model_module_version": "1.2.0",
            "_view_count": null,
            "flex_flow": null,
            "width": null,
            "min_width": null,
            "border": null,
            "align_items": null,
            "bottom": null,
            "_model_module": "@jupyter-widgets/base",
            "top": null,
            "grid_column": null,
            "overflow_y": null,
            "overflow_x": null,
            "grid_auto_flow": null,
            "grid_area": null,
            "grid_template_columns": null,
            "flex": null,
            "_model_name": "LayoutModel",
            "justify_items": null,
            "grid_row": null,
            "max_height": null,
            "align_content": null,
            "visibility": null,
            "align_self": null,
            "height": null,
            "min_height": null,
            "padding": null,
            "grid_auto_rows": null,
            "grid_gap": null,
            "max_width": null,
            "order": null,
            "_view_module_version": "1.2.0",
            "grid_template_areas": null,
            "object_position": null,
            "object_fit": null,
            "grid_auto_columns": null,
            "margin": null,
            "display": null,
            "left": null
          }
        },
        "47e4402d15754461a18431206f6da6e9": {
          "model_module": "@jupyter-widgets/controls",
          "model_name": "HBoxModel",
          "state": {
            "_view_name": "HBoxView",
            "_dom_classes": [],
            "_model_name": "HBoxModel",
            "_view_module": "@jupyter-widgets/controls",
            "_model_module_version": "1.5.0",
            "_view_count": null,
            "_view_module_version": "1.5.0",
            "box_style": "",
            "layout": "IPY_MODEL_c6ddc8bb1d984204964a802b4f3dcf85",
            "_model_module": "@jupyter-widgets/controls",
            "children": [
              "IPY_MODEL_9360674473db4c80bf62c45eef702fe8",
              "IPY_MODEL_bde9da0181ab4e85abcecc7921cbbb25"
            ]
          }
        },
        "c6ddc8bb1d984204964a802b4f3dcf85": {
          "model_module": "@jupyter-widgets/base",
          "model_name": "LayoutModel",
          "state": {
            "_view_name": "LayoutView",
            "grid_template_rows": null,
            "right": null,
            "justify_content": null,
            "_view_module": "@jupyter-widgets/base",
            "overflow": null,
            "_model_module_version": "1.2.0",
            "_view_count": null,
            "flex_flow": null,
            "width": null,
            "min_width": null,
            "border": null,
            "align_items": null,
            "bottom": null,
            "_model_module": "@jupyter-widgets/base",
            "top": null,
            "grid_column": null,
            "overflow_y": null,
            "overflow_x": null,
            "grid_auto_flow": null,
            "grid_area": null,
            "grid_template_columns": null,
            "flex": null,
            "_model_name": "LayoutModel",
            "justify_items": null,
            "grid_row": null,
            "max_height": null,
            "align_content": null,
            "visibility": null,
            "align_self": null,
            "height": null,
            "min_height": null,
            "padding": null,
            "grid_auto_rows": null,
            "grid_gap": null,
            "max_width": null,
            "order": null,
            "_view_module_version": "1.2.0",
            "grid_template_areas": null,
            "object_position": null,
            "object_fit": null,
            "grid_auto_columns": null,
            "margin": null,
            "display": null,
            "left": null
          }
        },
        "9360674473db4c80bf62c45eef702fe8": {
          "model_module": "@jupyter-widgets/controls",
          "model_name": "FloatProgressModel",
          "state": {
            "_view_name": "ProgressView",
            "style": "IPY_MODEL_3b4eba01dab54b318de2d912eefc7796",
            "_dom_classes": [],
            "description": "Downloading: 100%",
            "_model_name": "FloatProgressModel",
            "bar_style": "success",
            "max": 490,
            "_view_module": "@jupyter-widgets/controls",
            "_model_module_version": "1.5.0",
            "value": 490,
            "_view_count": null,
            "_view_module_version": "1.5.0",
            "orientation": "horizontal",
            "min": 0,
            "description_tooltip": null,
            "_model_module": "@jupyter-widgets/controls",
            "layout": "IPY_MODEL_8e77b1978f2a4e40978f6f45b680c426"
          }
        },
        "bde9da0181ab4e85abcecc7921cbbb25": {
          "model_module": "@jupyter-widgets/controls",
          "model_name": "HTMLModel",
          "state": {
            "_view_name": "HTMLView",
            "style": "IPY_MODEL_574565682f10426f92e9638e97cc77b0",
            "_dom_classes": [],
            "description": "",
            "_model_name": "HTMLModel",
            "placeholder": "​",
            "_view_module": "@jupyter-widgets/controls",
            "_model_module_version": "1.5.0",
            "value": " 490/490 [00:00&lt;00:00, 1.34kB/s]",
            "_view_count": null,
            "_view_module_version": "1.5.0",
            "description_tooltip": null,
            "_model_module": "@jupyter-widgets/controls",
            "layout": "IPY_MODEL_29422372d5f84ea9ba691bfcacf67e67"
          }
        },
        "3b4eba01dab54b318de2d912eefc7796": {
          "model_module": "@jupyter-widgets/controls",
          "model_name": "ProgressStyleModel",
          "state": {
            "_view_name": "StyleView",
            "_model_name": "ProgressStyleModel",
            "description_width": "initial",
            "_view_module": "@jupyter-widgets/base",
            "_model_module_version": "1.5.0",
            "_view_count": null,
            "_view_module_version": "1.2.0",
            "bar_color": null,
            "_model_module": "@jupyter-widgets/controls"
          }
        },
        "8e77b1978f2a4e40978f6f45b680c426": {
          "model_module": "@jupyter-widgets/base",
          "model_name": "LayoutModel",
          "state": {
            "_view_name": "LayoutView",
            "grid_template_rows": null,
            "right": null,
            "justify_content": null,
            "_view_module": "@jupyter-widgets/base",
            "overflow": null,
            "_model_module_version": "1.2.0",
            "_view_count": null,
            "flex_flow": null,
            "width": null,
            "min_width": null,
            "border": null,
            "align_items": null,
            "bottom": null,
            "_model_module": "@jupyter-widgets/base",
            "top": null,
            "grid_column": null,
            "overflow_y": null,
            "overflow_x": null,
            "grid_auto_flow": null,
            "grid_area": null,
            "grid_template_columns": null,
            "flex": null,
            "_model_name": "LayoutModel",
            "justify_items": null,
            "grid_row": null,
            "max_height": null,
            "align_content": null,
            "visibility": null,
            "align_self": null,
            "height": null,
            "min_height": null,
            "padding": null,
            "grid_auto_rows": null,
            "grid_gap": null,
            "max_width": null,
            "order": null,
            "_view_module_version": "1.2.0",
            "grid_template_areas": null,
            "object_position": null,
            "object_fit": null,
            "grid_auto_columns": null,
            "margin": null,
            "display": null,
            "left": null
          }
        },
        "574565682f10426f92e9638e97cc77b0": {
          "model_module": "@jupyter-widgets/controls",
          "model_name": "DescriptionStyleModel",
          "state": {
            "_view_name": "StyleView",
            "_model_name": "DescriptionStyleModel",
            "description_width": "",
            "_view_module": "@jupyter-widgets/base",
            "_model_module_version": "1.5.0",
            "_view_count": null,
            "_view_module_version": "1.2.0",
            "_model_module": "@jupyter-widgets/controls"
          }
        },
        "29422372d5f84ea9ba691bfcacf67e67": {
          "model_module": "@jupyter-widgets/base",
          "model_name": "LayoutModel",
          "state": {
            "_view_name": "LayoutView",
            "grid_template_rows": null,
            "right": null,
            "justify_content": null,
            "_view_module": "@jupyter-widgets/base",
            "overflow": null,
            "_model_module_version": "1.2.0",
            "_view_count": null,
            "flex_flow": null,
            "width": null,
            "min_width": null,
            "border": null,
            "align_items": null,
            "bottom": null,
            "_model_module": "@jupyter-widgets/base",
            "top": null,
            "grid_column": null,
            "overflow_y": null,
            "overflow_x": null,
            "grid_auto_flow": null,
            "grid_area": null,
            "grid_template_columns": null,
            "flex": null,
            "_model_name": "LayoutModel",
            "justify_items": null,
            "grid_row": null,
            "max_height": null,
            "align_content": null,
            "visibility": null,
            "align_self": null,
            "height": null,
            "min_height": null,
            "padding": null,
            "grid_auto_rows": null,
            "grid_gap": null,
            "max_width": null,
            "order": null,
            "_view_module_version": "1.2.0",
            "grid_template_areas": null,
            "object_position": null,
            "object_fit": null,
            "grid_auto_columns": null,
            "margin": null,
            "display": null,
            "left": null
          }
        },
        "4adee12adb4544fa96808bde68490225": {
          "model_module": "@jupyter-widgets/controls",
          "model_name": "HBoxModel",
          "state": {
            "_view_name": "HBoxView",
            "_dom_classes": [],
            "_model_name": "HBoxModel",
            "_view_module": "@jupyter-widgets/controls",
            "_model_module_version": "1.5.0",
            "_view_count": null,
            "_view_module_version": "1.5.0",
            "box_style": "",
            "layout": "IPY_MODEL_7c3694305ca948d39ebee3c28563c517",
            "_model_module": "@jupyter-widgets/controls",
            "children": [
              "IPY_MODEL_3aa18c1b56c04e20af47d4caec7360e9",
              "IPY_MODEL_712c71810b7e40a2934a6345eee5cdfe"
            ]
          }
        },
        "7c3694305ca948d39ebee3c28563c517": {
          "model_module": "@jupyter-widgets/base",
          "model_name": "LayoutModel",
          "state": {
            "_view_name": "LayoutView",
            "grid_template_rows": null,
            "right": null,
            "justify_content": null,
            "_view_module": "@jupyter-widgets/base",
            "overflow": null,
            "_model_module_version": "1.2.0",
            "_view_count": null,
            "flex_flow": null,
            "width": null,
            "min_width": null,
            "border": null,
            "align_items": null,
            "bottom": null,
            "_model_module": "@jupyter-widgets/base",
            "top": null,
            "grid_column": null,
            "overflow_y": null,
            "overflow_x": null,
            "grid_auto_flow": null,
            "grid_area": null,
            "grid_template_columns": null,
            "flex": null,
            "_model_name": "LayoutModel",
            "justify_items": null,
            "grid_row": null,
            "max_height": null,
            "align_content": null,
            "visibility": null,
            "align_self": null,
            "height": null,
            "min_height": null,
            "padding": null,
            "grid_auto_rows": null,
            "grid_gap": null,
            "max_width": null,
            "order": null,
            "_view_module_version": "1.2.0",
            "grid_template_areas": null,
            "object_position": null,
            "object_fit": null,
            "grid_auto_columns": null,
            "margin": null,
            "display": null,
            "left": null
          }
        },
        "3aa18c1b56c04e20af47d4caec7360e9": {
          "model_module": "@jupyter-widgets/controls",
          "model_name": "FloatProgressModel",
          "state": {
            "_view_name": "ProgressView",
            "style": "IPY_MODEL_995fe5d413b64f658da1a496cbbb980d",
            "_dom_classes": [],
            "description": "Downloading: 100%",
            "_model_name": "FloatProgressModel",
            "bar_style": "success",
            "max": 442791751,
            "_view_module": "@jupyter-widgets/controls",
            "_model_module_version": "1.5.0",
            "value": 442791751,
            "_view_count": null,
            "_view_module_version": "1.5.0",
            "orientation": "horizontal",
            "min": 0,
            "description_tooltip": null,
            "_model_module": "@jupyter-widgets/controls",
            "layout": "IPY_MODEL_c6d456caf02b4d4ab13425e5522da78c"
          }
        },
        "712c71810b7e40a2934a6345eee5cdfe": {
          "model_module": "@jupyter-widgets/controls",
          "model_name": "HTMLModel",
          "state": {
            "_view_name": "HTMLView",
            "style": "IPY_MODEL_82616b165fd04bdea3a6ac812eee5f60",
            "_dom_classes": [],
            "description": "",
            "_model_name": "HTMLModel",
            "placeholder": "​",
            "_view_module": "@jupyter-widgets/controls",
            "_model_module_version": "1.5.0",
            "value": " 443M/443M [00:11&lt;00:00, 40.1MB/s]",
            "_view_count": null,
            "_view_module_version": "1.5.0",
            "description_tooltip": null,
            "_model_module": "@jupyter-widgets/controls",
            "layout": "IPY_MODEL_a958a951c6c34dd1af7a50cfc7a40ab1"
          }
        },
        "995fe5d413b64f658da1a496cbbb980d": {
          "model_module": "@jupyter-widgets/controls",
          "model_name": "ProgressStyleModel",
          "state": {
            "_view_name": "StyleView",
            "_model_name": "ProgressStyleModel",
            "description_width": "initial",
            "_view_module": "@jupyter-widgets/base",
            "_model_module_version": "1.5.0",
            "_view_count": null,
            "_view_module_version": "1.2.0",
            "bar_color": null,
            "_model_module": "@jupyter-widgets/controls"
          }
        },
        "c6d456caf02b4d4ab13425e5522da78c": {
          "model_module": "@jupyter-widgets/base",
          "model_name": "LayoutModel",
          "state": {
            "_view_name": "LayoutView",
            "grid_template_rows": null,
            "right": null,
            "justify_content": null,
            "_view_module": "@jupyter-widgets/base",
            "overflow": null,
            "_model_module_version": "1.2.0",
            "_view_count": null,
            "flex_flow": null,
            "width": null,
            "min_width": null,
            "border": null,
            "align_items": null,
            "bottom": null,
            "_model_module": "@jupyter-widgets/base",
            "top": null,
            "grid_column": null,
            "overflow_y": null,
            "overflow_x": null,
            "grid_auto_flow": null,
            "grid_area": null,
            "grid_template_columns": null,
            "flex": null,
            "_model_name": "LayoutModel",
            "justify_items": null,
            "grid_row": null,
            "max_height": null,
            "align_content": null,
            "visibility": null,
            "align_self": null,
            "height": null,
            "min_height": null,
            "padding": null,
            "grid_auto_rows": null,
            "grid_gap": null,
            "max_width": null,
            "order": null,
            "_view_module_version": "1.2.0",
            "grid_template_areas": null,
            "object_position": null,
            "object_fit": null,
            "grid_auto_columns": null,
            "margin": null,
            "display": null,
            "left": null
          }
        },
        "82616b165fd04bdea3a6ac812eee5f60": {
          "model_module": "@jupyter-widgets/controls",
          "model_name": "DescriptionStyleModel",
          "state": {
            "_view_name": "StyleView",
            "_model_name": "DescriptionStyleModel",
            "description_width": "",
            "_view_module": "@jupyter-widgets/base",
            "_model_module_version": "1.5.0",
            "_view_count": null,
            "_view_module_version": "1.2.0",
            "_model_module": "@jupyter-widgets/controls"
          }
        },
        "a958a951c6c34dd1af7a50cfc7a40ab1": {
          "model_module": "@jupyter-widgets/base",
          "model_name": "LayoutModel",
          "state": {
            "_view_name": "LayoutView",
            "grid_template_rows": null,
            "right": null,
            "justify_content": null,
            "_view_module": "@jupyter-widgets/base",
            "overflow": null,
            "_model_module_version": "1.2.0",
            "_view_count": null,
            "flex_flow": null,
            "width": null,
            "min_width": null,
            "border": null,
            "align_items": null,
            "bottom": null,
            "_model_module": "@jupyter-widgets/base",
            "top": null,
            "grid_column": null,
            "overflow_y": null,
            "overflow_x": null,
            "grid_auto_flow": null,
            "grid_area": null,
            "grid_template_columns": null,
            "flex": null,
            "_model_name": "LayoutModel",
            "justify_items": null,
            "grid_row": null,
            "max_height": null,
            "align_content": null,
            "visibility": null,
            "align_self": null,
            "height": null,
            "min_height": null,
            "padding": null,
            "grid_auto_rows": null,
            "grid_gap": null,
            "max_width": null,
            "order": null,
            "_view_module_version": "1.2.0",
            "grid_template_areas": null,
            "object_position": null,
            "object_fit": null,
            "grid_auto_columns": null,
            "margin": null,
            "display": null,
            "left": null
          }
        }
      }
    }
  },
  "cells": [
    {
      "cell_type": "markdown",
      "metadata": {
        "id": "view-in-github",
        "colab_type": "text"
      },
      "source": [
        "<a href=\"https://colab.research.google.com/github/bartleyn/practice/blob/master/Scaling_TablePipelines.ipynb\" target=\"_parent\"><img src=\"https://colab.research.google.com/assets/colab-badge.svg\" alt=\"Open In Colab\"/></a>"
      ]
    },
    {
      "cell_type": "code",
      "metadata": {
        "id": "AWmPfyExH80E"
      },
      "source": [
        ""
      ],
      "execution_count": null,
      "outputs": []
    },
    {
      "cell_type": "markdown",
      "metadata": {
        "id": "wLuyLviTf6lS"
      },
      "source": [
        "#Running Tabular QA Transformer Pipelines\n",
        "\n",
        "This is a notebook tutorial for how to run the Tabular Question Answering pipeline module in the Huggingface Transformers python library. \n",
        "\n",
        "There are roughly three types of tabular QA models available pre-trained:\n",
        "\n",
        "\n",
        "1.  **Conversational** (e.g., SQA). This is useful for use-cases where you want to issue follow-up queries in a conversational manner.\n",
        "2.  **Weakly supervised** for aggregation (e.g., WTQ). This is useful if you want the model to have learned the appropriate aggregation label (SUM/COUNT/AVERAGE/NONE) without ground-truth labels in the training data.\n",
        "3.  **Strongly supervised** for aggregation (e.g., WikiSQL-supervised). This is useful if you want the model to have been trained with ground-truth aggregation operators alongside the training data."
      ]
    },
    {
      "cell_type": "markdown",
      "metadata": {
        "id": "6xU35yE1xlTF"
      },
      "source": [
        "## 1. Installation"
      ]
    },
    {
      "cell_type": "code",
      "metadata": {
        "colab": {
          "base_uri": "https://localhost:8080/"
        },
        "id": "WhUIr5sJrZeL",
        "outputId": "18913354-f2d0-46bb-e19d-717394437aac"
      },
      "source": [
        "!pip install transformers\n",
        "!pip install sentencepiece\n",
        "!pip install pandas\n",
        "!pip install torch-scatter"
      ],
      "execution_count": null,
      "outputs": [
        {
          "output_type": "stream",
          "text": [
            "Collecting transformers\n",
            "\u001b[?25l  Downloading https://files.pythonhosted.org/packages/d5/43/cfe4ee779bbd6a678ac6a97c5a5cdeb03c35f9eaebbb9720b036680f9a2d/transformers-4.6.1-py3-none-any.whl (2.2MB)\n",
            "\u001b[K     |████████████████████████████████| 2.3MB 7.2MB/s \n",
            "\u001b[?25hRequirement already satisfied: regex!=2019.12.17 in /usr/local/lib/python3.7/dist-packages (from transformers) (2019.12.20)\n",
            "Collecting huggingface-hub==0.0.8\n",
            "  Downloading https://files.pythonhosted.org/packages/a1/88/7b1e45720ecf59c6c6737ff332f41c955963090a18e72acbcbeac6b25e86/huggingface_hub-0.0.8-py3-none-any.whl\n",
            "Requirement already satisfied: numpy>=1.17 in /usr/local/lib/python3.7/dist-packages (from transformers) (1.19.5)\n",
            "Collecting tokenizers<0.11,>=0.10.1\n",
            "\u001b[?25l  Downloading https://files.pythonhosted.org/packages/d4/e2/df3543e8ffdab68f5acc73f613de9c2b155ac47f162e725dcac87c521c11/tokenizers-0.10.3-cp37-cp37m-manylinux_2_5_x86_64.manylinux1_x86_64.manylinux_2_12_x86_64.manylinux2010_x86_64.whl (3.3MB)\n",
            "\u001b[K     |████████████████████████████████| 3.3MB 33.8MB/s \n",
            "\u001b[?25hCollecting sacremoses\n",
            "\u001b[?25l  Downloading https://files.pythonhosted.org/packages/75/ee/67241dc87f266093c533a2d4d3d69438e57d7a90abb216fa076e7d475d4a/sacremoses-0.0.45-py3-none-any.whl (895kB)\n",
            "\u001b[K     |████████████████████████████████| 901kB 32.1MB/s \n",
            "\u001b[?25hRequirement already satisfied: tqdm>=4.27 in /usr/local/lib/python3.7/dist-packages (from transformers) (4.41.1)\n",
            "Requirement already satisfied: packaging in /usr/local/lib/python3.7/dist-packages (from transformers) (20.9)\n",
            "Requirement already satisfied: requests in /usr/local/lib/python3.7/dist-packages (from transformers) (2.23.0)\n",
            "Requirement already satisfied: filelock in /usr/local/lib/python3.7/dist-packages (from transformers) (3.0.12)\n",
            "Requirement already satisfied: importlib-metadata; python_version < \"3.8\" in /usr/local/lib/python3.7/dist-packages (from transformers) (4.0.1)\n",
            "Requirement already satisfied: joblib in /usr/local/lib/python3.7/dist-packages (from sacremoses->transformers) (1.0.1)\n",
            "Requirement already satisfied: six in /usr/local/lib/python3.7/dist-packages (from sacremoses->transformers) (1.15.0)\n",
            "Requirement already satisfied: click in /usr/local/lib/python3.7/dist-packages (from sacremoses->transformers) (7.1.2)\n",
            "Requirement already satisfied: pyparsing>=2.0.2 in /usr/local/lib/python3.7/dist-packages (from packaging->transformers) (2.4.7)\n",
            "Requirement already satisfied: certifi>=2017.4.17 in /usr/local/lib/python3.7/dist-packages (from requests->transformers) (2020.12.5)\n",
            "Requirement already satisfied: chardet<4,>=3.0.2 in /usr/local/lib/python3.7/dist-packages (from requests->transformers) (3.0.4)\n",
            "Requirement already satisfied: urllib3!=1.25.0,!=1.25.1,<1.26,>=1.21.1 in /usr/local/lib/python3.7/dist-packages (from requests->transformers) (1.24.3)\n",
            "Requirement already satisfied: idna<3,>=2.5 in /usr/local/lib/python3.7/dist-packages (from requests->transformers) (2.10)\n",
            "Requirement already satisfied: typing-extensions>=3.6.4; python_version < \"3.8\" in /usr/local/lib/python3.7/dist-packages (from importlib-metadata; python_version < \"3.8\"->transformers) (3.7.4.3)\n",
            "Requirement already satisfied: zipp>=0.5 in /usr/local/lib/python3.7/dist-packages (from importlib-metadata; python_version < \"3.8\"->transformers) (3.4.1)\n",
            "Installing collected packages: huggingface-hub, tokenizers, sacremoses, transformers\n",
            "Successfully installed huggingface-hub-0.0.8 sacremoses-0.0.45 tokenizers-0.10.3 transformers-4.6.1\n",
            "Collecting sentencepiece\n",
            "\u001b[?25l  Downloading https://files.pythonhosted.org/packages/f5/99/e0808cb947ba10f575839c43e8fafc9cc44e4a7a2c8f79c60db48220a577/sentencepiece-0.1.95-cp37-cp37m-manylinux2014_x86_64.whl (1.2MB)\n",
            "\u001b[K     |████████████████████████████████| 1.2MB 7.5MB/s \n",
            "\u001b[?25hInstalling collected packages: sentencepiece\n",
            "Successfully installed sentencepiece-0.1.95\n",
            "Requirement already satisfied: pandas in /usr/local/lib/python3.7/dist-packages (1.1.5)\n",
            "Requirement already satisfied: numpy>=1.15.4 in /usr/local/lib/python3.7/dist-packages (from pandas) (1.19.5)\n",
            "Requirement already satisfied: python-dateutil>=2.7.3 in /usr/local/lib/python3.7/dist-packages (from pandas) (2.8.1)\n",
            "Requirement already satisfied: pytz>=2017.2 in /usr/local/lib/python3.7/dist-packages (from pandas) (2018.9)\n",
            "Requirement already satisfied: six>=1.5 in /usr/local/lib/python3.7/dist-packages (from python-dateutil>=2.7.3->pandas) (1.15.0)\n",
            "Collecting torch-scatter\n",
            "  Downloading https://files.pythonhosted.org/packages/fa/d1/0bade0c3b9222710528de0458ad48407dab46efd7ad3d4fd1be82b68ac2b/torch_scatter-2.0.7.tar.gz\n",
            "Building wheels for collected packages: torch-scatter\n",
            "  Building wheel for torch-scatter (setup.py) ... \u001b[?25l\u001b[?25hdone\n",
            "  Created wheel for torch-scatter: filename=torch_scatter-2.0.7-cp37-cp37m-linux_x86_64.whl size=292376 sha256=d05c8c9c8678c1022ced9f7ffa2cdd2aa88609b7b37a6231eba9651f365334de\n",
            "  Stored in directory: /root/.cache/pip/wheels/d4/47/a3/b454bae87fa5c1631826bc9b15285622675eac6baf4096b484\n",
            "Successfully built torch-scatter\n",
            "Installing collected packages: torch-scatter\n",
            "Successfully installed torch-scatter-2.0.7\n"
          ],
          "name": "stdout"
        }
      ]
    },
    {
      "cell_type": "markdown",
      "metadata": {
        "id": "2RNHWbBBxvmW"
      },
      "source": [
        "## 2. Imports"
      ]
    },
    {
      "cell_type": "code",
      "metadata": {
        "id": "U0APmlJhtbY0"
      },
      "source": [
        "from transformers import AutoTokenizer, pipeline, AutoModelForTableQuestionAnswering\n",
        "import pandas as pd"
      ],
      "execution_count": null,
      "outputs": []
    },
    {
      "cell_type": "markdown",
      "metadata": {
        "id": "9jgLbJMix1gl"
      },
      "source": [
        "## 3. Loading Tokenizer & Model"
      ]
    },
    {
      "cell_type": "markdown",
      "metadata": {
        "id": "XZP_0FkWy0lD"
      },
      "source": [
        "If you want to make use of the different pre-trained models on huggingface, check out one of the various models [here](https://huggingface.co/models?filter=table-question-answering). When you go to an individual model card, click on \"Use in Transformers\":![Screen Shot 2021-06-07 at 11.49.09 AM.png](data:image/png;base64,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)\n",
        "\n",
        "You will see example code you can use to load the model's tokenizer & model, and information about cloning it from the repo directly if you want to:\n",
        "\n",
        "![Screen Shot 2021-06-07 at 12.07.24 PM.png](data:image/png;base64,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)"
      ]
    },
    {
      "cell_type": "code",
      "metadata": {
        "id": "5pq0hxgCrZlz",
        "colab": {
          "base_uri": "https://localhost:8080/",
          "height": 218,
          "referenced_widgets": [
            "a039765ae7b04732bf905a408152ca3c",
            "4a58aa3f7c984e5ab820d483632ca654",
            "8d755415cb2641a5856076f39abeb676",
            "18bcd93177f949c5974664a88d6a53c7",
            "73f69b1e7934433fad7aebadd7112a6f",
            "51aba845188546a2950ddf5e1ff0c2f4",
            "a9b2d9d24f174672b8fd9f4e69b8a584",
            "668837ef59f84ffeb73d0909912bb0a8",
            "580fa2b3bd3846829b6896cbc7de914f",
            "11ac313709d742eaa909c223b41ad2fa",
            "e1994b1e11f643b39f9080b29ddbb3b4",
            "8fe8c95db83d43db87b08b9501fcc078",
            "2892b76a457a46ae890983289a9a906b",
            "f24050b2b9994e1d8c12f660624515b0",
            "ae23ebf6a18240e4839d46d6e9765e56",
            "53d160c9a2b442e087ffc3359f4f2de6",
            "7cefe3a006be46e3a4828468d00e29e9",
            "1d9c1484af584468aa032a7fdcb5ac3a",
            "30dfa29e44274401abd0ab03d4a4220e",
            "988d0bfa570d4317b72f86f7a4d505a5",
            "d36e5346d7e842ec976fdadbfd1dd74f",
            "c7325de735994c9a9d275395cc6694d3",
            "4a61d56f11074159a86b63183a251830",
            "1f7a870488bf4e63acbce246e54c5a24",
            "47e4402d15754461a18431206f6da6e9",
            "c6ddc8bb1d984204964a802b4f3dcf85",
            "9360674473db4c80bf62c45eef702fe8",
            "bde9da0181ab4e85abcecc7921cbbb25",
            "3b4eba01dab54b318de2d912eefc7796",
            "8e77b1978f2a4e40978f6f45b680c426",
            "574565682f10426f92e9638e97cc77b0",
            "29422372d5f84ea9ba691bfcacf67e67"
          ]
        },
        "outputId": "16d670bb-9905-4f6c-dddf-f3fef1bcc961"
      },
      "source": [
        "#tokenizer = AutoTokenizer.from_pretrained(\"google/tapas-base-finetuned-sqa\")\n",
        "tokenizer = AutoTokenizer.from_pretrained(\"google/tapas-base-finetuned-wtq\")"
      ],
      "execution_count": null,
      "outputs": [
        {
          "output_type": "display_data",
          "data": {
            "application/vnd.jupyter.widget-view+json": {
              "model_id": "a039765ae7b04732bf905a408152ca3c",
              "version_minor": 0,
              "version_major": 2
            },
            "text/plain": [
              "HBox(children=(FloatProgress(value=0.0, description='Downloading', max=1629.0, style=ProgressStyle(description…"
            ]
          },
          "metadata": {
            "tags": []
          }
        },
        {
          "output_type": "stream",
          "text": [
            "\n"
          ],
          "name": "stdout"
        },
        {
          "output_type": "display_data",
          "data": {
            "application/vnd.jupyter.widget-view+json": {
              "model_id": "580fa2b3bd3846829b6896cbc7de914f",
              "version_minor": 0,
              "version_major": 2
            },
            "text/plain": [
              "HBox(children=(FloatProgress(value=0.0, description='Downloading', max=262028.0, style=ProgressStyle(descripti…"
            ]
          },
          "metadata": {
            "tags": []
          }
        },
        {
          "output_type": "stream",
          "text": [
            "\n"
          ],
          "name": "stdout"
        },
        {
          "output_type": "display_data",
          "data": {
            "application/vnd.jupyter.widget-view+json": {
              "model_id": "7cefe3a006be46e3a4828468d00e29e9",
              "version_minor": 0,
              "version_major": 2
            },
            "text/plain": [
              "HBox(children=(FloatProgress(value=0.0, description='Downloading', max=154.0, style=ProgressStyle(description_…"
            ]
          },
          "metadata": {
            "tags": []
          }
        },
        {
          "output_type": "stream",
          "text": [
            "\n"
          ],
          "name": "stdout"
        },
        {
          "output_type": "display_data",
          "data": {
            "application/vnd.jupyter.widget-view+json": {
              "model_id": "47e4402d15754461a18431206f6da6e9",
              "version_minor": 0,
              "version_major": 2
            },
            "text/plain": [
              "HBox(children=(FloatProgress(value=0.0, description='Downloading', max=490.0, style=ProgressStyle(description_…"
            ]
          },
          "metadata": {
            "tags": []
          }
        },
        {
          "output_type": "stream",
          "text": [
            "\n"
          ],
          "name": "stdout"
        }
      ]
    },
    {
      "cell_type": "code",
      "metadata": {
        "id": "GSrbWPp1rZoP",
        "colab": {
          "base_uri": "https://localhost:8080/",
          "height": 67,
          "referenced_widgets": [
            "4adee12adb4544fa96808bde68490225",
            "7c3694305ca948d39ebee3c28563c517",
            "3aa18c1b56c04e20af47d4caec7360e9",
            "712c71810b7e40a2934a6345eee5cdfe",
            "995fe5d413b64f658da1a496cbbb980d",
            "c6d456caf02b4d4ab13425e5522da78c",
            "82616b165fd04bdea3a6ac812eee5f60",
            "a958a951c6c34dd1af7a50cfc7a40ab1"
          ]
        },
        "outputId": "8b40d8c1-5054-44f3-bbf6-3be204f306ff"
      },
      "source": [
        "#model = AutoModelForTableQuestionAnswering.from_pretrained(\"google/tapas-base-finetuned-sqa\")\n",
        "model = AutoModelForTableQuestionAnswering.from_pretrained(\"google/tapas-base-finetuned-wtq\")"
      ],
      "execution_count": null,
      "outputs": [
        {
          "output_type": "display_data",
          "data": {
            "application/vnd.jupyter.widget-view+json": {
              "model_id": "4adee12adb4544fa96808bde68490225",
              "version_minor": 0,
              "version_major": 2
            },
            "text/plain": [
              "HBox(children=(FloatProgress(value=0.0, description='Downloading', max=442791751.0, style=ProgressStyle(descri…"
            ]
          },
          "metadata": {
            "tags": []
          }
        },
        {
          "output_type": "stream",
          "text": [
            "\n"
          ],
          "name": "stdout"
        }
      ]
    },
    {
      "cell_type": "markdown",
      "metadata": {
        "id": "UwEOmeKix7Sm"
      },
      "source": [
        "## 4. Creating Pipeline for QA"
      ]
    },
    {
      "cell_type": "code",
      "metadata": {
        "id": "_cb6gnOPx_gm"
      },
      "source": [
        "nlp = pipeline('table-question-answering', \n",
        "               model=model,\n",
        "               tokenizer=tokenizer,\n",
        "               )"
      ],
      "execution_count": null,
      "outputs": []
    },
    {
      "cell_type": "markdown",
      "metadata": {
        "id": "iBBBoHTByD0b"
      },
      "source": [
        "## 5. Using Pre-trained Pipeline on data"
      ]
    },
    {
      "cell_type": "markdown",
      "metadata": {
        "id": "t0ncTdK75b_w"
      },
      "source": [
        "You can specify your input tabular data as either a ```dict``` or a ```pd.DataFrame```."
      ]
    },
    {
      "cell_type": "code",
      "metadata": {
        "id": "UNetH9r0rZq1"
      },
      "source": [
        "table_data_movies = pd.DataFrame.from_dict({\n",
        "    \"actors\": [\"brad pitt\", \"leonardo di caprio\", \"george clooney\"],\n",
        "    \"age\": [\"56\", \"45\", \"59\"],\n",
        "    \"number of movies\": [\"87\", \"53\", \"69\"],\n",
        "    \"date of birth\": [\"7 february 1967\", \"10 june 1996\", \"28 november 1967\"],\n",
        "})\n",
        "\n",
        "table_data_grades = {\n",
        "    \"student\": [\"nathan\", \"alex\", \"lauren\", \"adrienne\"],\n",
        "    \"grade\": [\"83\", \"88\", \"93\", \"87\"],\n",
        "    \"final exam score\": [\"90\", \"91\", \"94\", \"96\"],\n",
        "}"
      ],
      "execution_count": null,
      "outputs": []
    },
    {
      "cell_type": "markdown",
      "metadata": {
        "id": "734MfPlv1Okw"
      },
      "source": [
        "You can specify queries as either:\n",
        "*  a ```str``` \n",
        "*  or a ```List(str)```\n",
        "\n"
      ]
    },
    {
      "cell_type": "code",
      "metadata": {
        "id": "qpRWfOxOtF0k"
      },
      "source": [
        "query_movies = \"How many movies was Leonardo Di Caprio in?\"\n",
        "query_movies = [\"When was Brad Pitt born?\", \"How old is George Clooney?\"]\n",
        "\n",
        "query_grades = \"What was Nathan's final exam score?\"\n",
        "query_avg = \"What was the average final exam score?\""
      ],
      "execution_count": null,
      "outputs": []
    },
    {
      "cell_type": "markdown",
      "metadata": {
        "id": "i8M125eR1LxV"
      },
      "source": [
        "Finally, you can issue those queries on your tabular data in a variety of different formats:\n",
        "\n",
        "\n",
        "*   ```pipeline(table, query)```\n",
        "*   ```pipeline(table, [query])```\n",
        "*   ```pipeline(table=table, query=query)```\n",
        "*   ```pipeline(table=table, query=[query])```\n",
        "*   ```pipeline({'table':table, 'query':query})```\n",
        "*   ```pipeline({'table':table, 'query':[query]})```\n",
        "*   ```pipeline([{'table':table, 'query':query}, {'table': table, 'query', query}])```\n",
        "\n",
        "\n",
        "\n"
      ]
    },
    {
      "cell_type": "code",
      "metadata": {
        "colab": {
          "base_uri": "https://localhost:8080/"
        },
        "id": "JpK8SGAArZtS",
        "outputId": "729a1dad-518a-46ba-f6cc-d85980e54819"
      },
      "source": [
        "nlp(table=table_data_movies, query=query_movies)"
      ],
      "execution_count": null,
      "outputs": [
        {
          "output_type": "execute_result",
          "data": {
            "text/plain": [
              "[{'aggregator': 'NONE',\n",
              "  'answer': '7 february 1967',\n",
              "  'cells': ['7 february 1967'],\n",
              "  'coordinates': [(0, 3)]},\n",
              " {'aggregator': 'AVERAGE',\n",
              "  'answer': 'AVERAGE > 59',\n",
              "  'cells': ['59'],\n",
              "  'coordinates': [(2, 1)]}]"
            ]
          },
          "metadata": {
            "tags": []
          },
          "execution_count": 8
        }
      ]
    },
    {
      "cell_type": "code",
      "metadata": {
        "colab": {
          "base_uri": "https://localhost:8080/"
        },
        "id": "IjfD_yEh27hl",
        "outputId": "09638254-44f8-4818-f509-e7554a69e77b"
      },
      "source": [
        "nlp([{\"table\": table_data_movies, \"query\": query_movies}, \n",
        "    {\"table\": table_data_grades, \"query\": query_grades}])"
      ],
      "execution_count": null,
      "outputs": [
        {
          "output_type": "execute_result",
          "data": {
            "text/plain": [
              "[[{'aggregator': 'NONE',\n",
              "   'answer': '7 february 1967',\n",
              "   'cells': ['7 february 1967'],\n",
              "   'coordinates': [(0, 3)]},\n",
              "  {'aggregator': 'AVERAGE',\n",
              "   'answer': 'AVERAGE > 59',\n",
              "   'cells': ['59'],\n",
              "   'coordinates': [(2, 1)]}],\n",
              " {'aggregator': 'AVERAGE',\n",
              "  'answer': 'AVERAGE > 90',\n",
              "  'cells': ['90'],\n",
              "  'coordinates': [(0, 2)]}]"
            ]
          },
          "metadata": {
            "tags": []
          },
          "execution_count": 9
        }
      ]
    },
    {
      "cell_type": "code",
      "metadata": {
        "colab": {
          "base_uri": "https://localhost:8080/"
        },
        "id": "QKVzIGQo7mDI",
        "outputId": "aaaae124-1001-449a-edac-67424b4c5f60"
      },
      "source": [
        "nlp(table_data_grades, query_avg)"
      ],
      "execution_count": null,
      "outputs": [
        {
          "output_type": "execute_result",
          "data": {
            "text/plain": [
              "{'aggregator': 'AVERAGE',\n",
              " 'answer': 'AVERAGE > 90, 91, 94, 96',\n",
              " 'cells': ['90', '91', '94', '96'],\n",
              " 'coordinates': [(0, 2), (1, 2), (2, 2), (3, 2)]}"
            ]
          },
          "metadata": {
            "tags": []
          },
          "execution_count": 10
        }
      ]
    },
    {
      "cell_type": "markdown",
      "metadata": {
        "id": "3YRUKjvt1amC"
      },
      "source": [
        "Each result is a ```dict``` with the following keys:\n",
        "\n",
        "*   **answer** - a ```str```. If an aggregator is available, will be prefaced by ```AGGREGATOR >```\n",
        "*   **coordinates** - a ```List(Tuple(int,int))``` containing the coordinates of the answer (example index, field index)\n",
        "*   **cells** - a ```List(str)``` containing the answer cell values\n",
        "*   **aggregator** - a ```str``` if the model uses an aggregator"
      ]
    },
    {
      "cell_type": "markdown",
      "metadata": {
        "id": "iXnfiGCIJnkv"
      },
      "source": [
        "## 6. Aggregator"
      ]
    },
    {
      "cell_type": "markdown",
      "metadata": {
        "id": "IqowIb0Bb13r"
      },
      "source": [
        "For models with an aggregation head (e.g., TAPAS pre-trained on WTQ), you may access the kind of aggregation the model predicts for your query. For example, if your query is \"What is the average number of movies for each actor?\" You may get the following result: \n",
        "\n",
        "```AVERAGE > \"87\", \"53\", \"69\"```\n",
        "\n",
        "\n",
        "Below we run the above cells but use the ```\"google/tapas-base-finetuned-wtq\"``` model and tokenizer."
      ]
    },
    {
      "cell_type": "code",
      "metadata": {
        "colab": {
          "base_uri": "https://localhost:8080/",
          "height": 127
        },
        "id": "1cEpiZXnJo8I",
        "outputId": "9cc7823f-73d1-4295-e92a-6554dae1ae0c"
      },
      "source": [
        "\n",
        "'''Code adapted from https://huggingface.co/transformers/model_doc/tapas.html#usage-inference\n",
        "'''\n",
        "\n",
        "inputs = tokenizer(table=pd.DataFrame(table_data_grades), queries=query_avg, \n",
        "                   padding='max_length', return_tensors=\"pt\")\n",
        "outputs = model(**inputs)\n",
        "#print(outputs)\n",
        "predicted_answer_coordinates, predicted_aggregation_indices = tokenizer.convert_logits_to_predictions(\n",
        "         inputs,\n",
        "         outputs.logits.detach(),\n",
        "         outputs.logits_aggregation.detach()\n",
        " )\n",
        "\n",
        "# let's print out the results:\n",
        "id2aggregation = {0: \"NONE\", 1: \"SUM\", 2: \"AVERAGE\", 3:\"COUNT\"}\n",
        "aggregation_predictions_string = [id2aggregation[x] for x in predicted_aggregation_indices]\n",
        "\n",
        "answers = []\n",
        "for coordinates in predicted_answer_coordinates:\n",
        "   if len(coordinates) == 1:\n",
        "     # only a single cell:\n",
        "     answers.append(table.iat[coordinates[0]])\n",
        "   else:\n",
        "     # multiple cells\n",
        "     cell_values = []\n",
        "     for coordinate in coordinates:\n",
        "        cell_values.append(pd.DataFrame(table_data_grades).iat[coordinate])\n",
        "     answers.append(\", \".join(cell_values))\n",
        "\n",
        "display(table_data_grades)\n",
        "print(\"\")\n",
        "for query, answer, predicted_agg in zip([query_avg], answers, aggregation_predictions_string):\n",
        "  print(query)\n",
        "  if predicted_agg == \"NONE\":\n",
        "    print(\"Predicted answer: \" + answer)\n",
        "  else:\n",
        "    print(\"Predicted answer: \" + predicted_agg + \" > \" + answer)"
      ],
      "execution_count": null,
      "outputs": [
        {
          "output_type": "display_data",
          "data": {
            "text/plain": [
              "{'final exam score': ['90', '91', '94', '96'],\n",
              " 'grade': ['83', '88', '93', '87'],\n",
              " 'student': ['nathan', 'alex', 'lauren', 'adrienne']}"
            ]
          },
          "metadata": {
            "tags": []
          }
        },
        {
          "output_type": "stream",
          "text": [
            "\n",
            "What was the average final exam score?\n",
            "Predicted answer: AVERAGE > 90, 91, 94, 96\n"
          ],
          "name": "stdout"
        }
      ]
    },
    {
      "cell_type": "code",
      "metadata": {
        "id": "uN-KW7QoIfw2"
      },
      "source": [
        ""
      ],
      "execution_count": null,
      "outputs": []
    },
    {
      "cell_type": "markdown",
      "metadata": {
        "id": "pjmkopeiIgpH"
      },
      "source": [
        "## 7. Scaling tests"
      ]
    },
    {
      "cell_type": "code",
      "metadata": {
        "colab": {
          "base_uri": "https://localhost:8080/"
        },
        "id": "zARWka_gIgDf",
        "outputId": "8d526d7a-0a2f-400c-f0ce-25d7ab91bb14"
      },
      "source": [
        "!wget https://www.bls.gov/iif/oshwc/osh/os/summ1_00_2019.xlsx"
      ],
      "execution_count": null,
      "outputs": [
        {
          "output_type": "stream",
          "text": [
            "--2021-06-11 17:27:56--  https://www.bls.gov/iif/oshwc/osh/os/summ1_00_2019.xlsx\n",
            "Resolving www.bls.gov (www.bls.gov)... 184.86.203.156, 2600:1406:c800:28a::18b9, 2600:1406:c800:284::18b9\n",
            "Connecting to www.bls.gov (www.bls.gov)|184.86.203.156|:443... connected.\n",
            "HTTP request sent, awaiting response... 200 OK\n",
            "Length: 82128 (80K) [application/vnd.openxmlformats-officedocument.spreadsheetml.sheet]\n",
            "Saving to: ‘summ1_00_2019.xlsx’\n",
            "\n",
            "summ1_00_2019.xlsx  100%[===================>]  80.20K  --.-KB/s    in 0.08s   \n",
            "\n",
            "2021-06-11 17:27:57 (970 KB/s) - ‘summ1_00_2019.xlsx’ saved [82128/82128]\n",
            "\n"
          ],
          "name": "stdout"
        }
      ]
    },
    {
      "cell_type": "code",
      "metadata": {
        "colab": {
          "base_uri": "https://localhost:8080/",
          "height": 577
        },
        "id": "X2i2HLxlyZqO",
        "outputId": "7678e32f-20c9-4b2f-8de4-43959a4622bd"
      },
      "source": [
        "pd.read_excel('summ1_00_2019.xlsx', header=[2,3])"
      ],
      "execution_count": null,
      "outputs": [
        {
          "output_type": "execute_result",
          "data": {
            "text/html": [
              "<div>\n",
              "<style scoped>\n",
              "    .dataframe tbody tr th:only-of-type {\n",
              "        vertical-align: middle;\n",
              "    }\n",
              "\n",
              "    .dataframe tbody tr th {\n",
              "        vertical-align: top;\n",
              "    }\n",
              "\n",
              "    .dataframe thead tr th {\n",
              "        text-align: left;\n",
              "    }\n",
              "</style>\n",
              "<table border=\"1\" class=\"dataframe\">\n",
              "  <thead>\n",
              "    <tr>\n",
              "      <th></th>\n",
              "      <th>Industry(2)</th>\n",
              "      <th>NAICS code(3)</th>\n",
              "      <th>Total recordable cases</th>\n",
              "      <th colspan=\"3\" halign=\"left\">Cases with days away from work, job restriction, or transfer</th>\n",
              "      <th colspan=\"2\" halign=\"left\">Other recordable cases</th>\n",
              "    </tr>\n",
              "    <tr>\n",
              "      <th></th>\n",
              "      <th>Unnamed: 0_level_1</th>\n",
              "      <th>Unnamed: 1_level_1</th>\n",
              "      <th>Unnamed: 2_level_1</th>\n",
              "      <th>Total</th>\n",
              "      <th>Cases with days away from work(4)</th>\n",
              "      <th>Cases with days of job transfer or restriction</th>\n",
              "      <th>Unnamed: 6_level_1</th>\n",
              "      <th>Unnamed: 7_level_1</th>\n",
              "    </tr>\n",
              "  </thead>\n",
              "  <tbody>\n",
              "    <tr>\n",
              "      <th>0</th>\n",
              "      <td>All industries including private, state and lo...</td>\n",
              "      <td>NaN</td>\n",
              "      <td>3</td>\n",
              "      <td>1.6</td>\n",
              "      <td>0.9</td>\n",
              "      <td>0.7</td>\n",
              "      <td>1.4</td>\n",
              "      <td>NaN</td>\n",
              "    </tr>\n",
              "    <tr>\n",
              "      <th>1</th>\n",
              "      <td>Private industry(5)</td>\n",
              "      <td>NaN</td>\n",
              "      <td>2.8</td>\n",
              "      <td>1.5</td>\n",
              "      <td>0.9</td>\n",
              "      <td>0.7</td>\n",
              "      <td>1.2</td>\n",
              "      <td>NaN</td>\n",
              "    </tr>\n",
              "    <tr>\n",
              "      <th>2</th>\n",
              "      <td>Goods-producing(5)</td>\n",
              "      <td>NaN</td>\n",
              "      <td>3.1</td>\n",
              "      <td>1.9</td>\n",
              "      <td>1</td>\n",
              "      <td>0.9</td>\n",
              "      <td>1.2</td>\n",
              "      <td>NaN</td>\n",
              "    </tr>\n",
              "    <tr>\n",
              "      <th>3</th>\n",
              "      <td>Natural resources and mining(5)(6)</td>\n",
              "      <td>NaN</td>\n",
              "      <td>3.4</td>\n",
              "      <td>2.1</td>\n",
              "      <td>1.2</td>\n",
              "      <td>0.9</td>\n",
              "      <td>1.3</td>\n",
              "      <td>NaN</td>\n",
              "    </tr>\n",
              "    <tr>\n",
              "      <th>4</th>\n",
              "      <td>Agriculture, forestry, fishing and hunting(5)</td>\n",
              "      <td>11</td>\n",
              "      <td>5.2</td>\n",
              "      <td>3.2</td>\n",
              "      <td>1.7</td>\n",
              "      <td>1.5</td>\n",
              "      <td>2</td>\n",
              "      <td>NaN</td>\n",
              "    </tr>\n",
              "    <tr>\n",
              "      <th>...</th>\n",
              "      <td>...</td>\n",
              "      <td>...</td>\n",
              "      <td>...</td>\n",
              "      <td>...</td>\n",
              "      <td>...</td>\n",
              "      <td>...</td>\n",
              "      <td>...</td>\n",
              "      <td>...</td>\n",
              "    </tr>\n",
              "    <tr>\n",
              "      <th>1082</th>\n",
              "      <td>(9) Data for mining operators in this industry...</td>\n",
              "      <td>NaN</td>\n",
              "      <td>NaN</td>\n",
              "      <td>NaN</td>\n",
              "      <td>NaN</td>\n",
              "      <td>NaN</td>\n",
              "      <td>NaN</td>\n",
              "      <td>NaN</td>\n",
              "    </tr>\n",
              "    <tr>\n",
              "      <th>1083</th>\n",
              "      <td>(10) Data for employers in rail transportation...</td>\n",
              "      <td>NaN</td>\n",
              "      <td>NaN</td>\n",
              "      <td>NaN</td>\n",
              "      <td>NaN</td>\n",
              "      <td>NaN</td>\n",
              "      <td>NaN</td>\n",
              "      <td>NaN</td>\n",
              "    </tr>\n",
              "    <tr>\n",
              "      <th>1084</th>\n",
              "      <td>(11) Rate rounded to zero</td>\n",
              "      <td>NaN</td>\n",
              "      <td>NaN</td>\n",
              "      <td>NaN</td>\n",
              "      <td>NaN</td>\n",
              "      <td>NaN</td>\n",
              "      <td>NaN</td>\n",
              "      <td>NaN</td>\n",
              "    </tr>\n",
              "    <tr>\n",
              "      <th>1085</th>\n",
              "      <td>Note: Because of rounding, components may not ...</td>\n",
              "      <td>NaN</td>\n",
              "      <td>NaN</td>\n",
              "      <td>NaN</td>\n",
              "      <td>NaN</td>\n",
              "      <td>NaN</td>\n",
              "      <td>NaN</td>\n",
              "      <td>NaN</td>\n",
              "    </tr>\n",
              "    <tr>\n",
              "      <th>1086</th>\n",
              "      <td>Source: Bureau of Labor Statistics, U.S. Depar...</td>\n",
              "      <td>NaN</td>\n",
              "      <td>NaN</td>\n",
              "      <td>NaN</td>\n",
              "      <td>NaN</td>\n",
              "      <td>NaN</td>\n",
              "      <td>NaN</td>\n",
              "      <td>NaN</td>\n",
              "    </tr>\n",
              "  </tbody>\n",
              "</table>\n",
              "<p>1087 rows × 8 columns</p>\n",
              "</div>"
            ],
            "text/plain": [
              "                                            Industry(2)  ... Other recordable cases\n",
              "                                     Unnamed: 0_level_1  ...     Unnamed: 7_level_1\n",
              "0     All industries including private, state and lo...  ...                    NaN\n",
              "1                                   Private industry(5)  ...                    NaN\n",
              "2                                    Goods-producing(5)  ...                    NaN\n",
              "3                    Natural resources and mining(5)(6)  ...                    NaN\n",
              "4         Agriculture, forestry, fishing and hunting(5)  ...                    NaN\n",
              "...                                                 ...  ...                    ...\n",
              "1082  (9) Data for mining operators in this industry...  ...                    NaN\n",
              "1083  (10) Data for employers in rail transportation...  ...                    NaN\n",
              "1084                          (11) Rate rounded to zero  ...                    NaN\n",
              "1085  Note: Because of rounding, components may not ...  ...                    NaN\n",
              "1086  Source: Bureau of Labor Statistics, U.S. Depar...  ...                    NaN\n",
              "\n",
              "[1087 rows x 8 columns]"
            ]
          },
          "metadata": {
            "tags": []
          },
          "execution_count": 13
        }
      ]
    },
    {
      "cell_type": "code",
      "metadata": {
        "id": "IG8SCvfDyjV2"
      },
      "source": [
        "input_df = pd.read_excel('summ1_00_2019.xlsx', header=[2,3]).drop([1072, 1073, 1074, 1075, 1076, 1077, 1078, 1079, 1080, 1081, 1082, 1083, 1084, 1085, 1086]).fillna(\"-1\").astype('string')"
      ],
      "execution_count": null,
      "outputs": []
    },
    {
      "cell_type": "code",
      "metadata": {
        "id": "3Ca38yJO2FK7"
      },
      "source": [
        "#input_df.set_index(keys=input_df.columns[0], inplace=True)"
      ],
      "execution_count": null,
      "outputs": []
    },
    {
      "cell_type": "code",
      "metadata": {
        "id": "L8PSP6ZQABqg"
      },
      "source": [
        "input_df.columns = [' '.join(col).strip() for col in input_df.columns.values]"
      ],
      "execution_count": null,
      "outputs": []
    },
    {
      "cell_type": "code",
      "metadata": {
        "id": "ij3QZ768nFvU"
      },
      "source": [
        "query_cases = \"What is the cases with days away from work for metal ore mining?\"\n",
        "query_cases = [\"What is the total recordable cases for private industry?\", \"What is the total recordable cases for oilseed farming?\"]\n",
        "\n",
        "table = input_df.iloc[:30,:].astype('object')"
      ],
      "execution_count": null,
      "outputs": []
    },
    {
      "cell_type": "code",
      "metadata": {
        "colab": {
          "base_uri": "https://localhost:8080/"
        },
        "id": "-4wHTv5hvkt8",
        "outputId": "76011829-8f4e-4939-e34a-4e71cb404631"
      },
      "source": [
        "input_df.shape[0]"
      ],
      "execution_count": null,
      "outputs": [
        {
          "output_type": "execute_result",
          "data": {
            "text/plain": [
              "1072"
            ]
          },
          "metadata": {
            "tags": []
          },
          "execution_count": 18
        }
      ]
    },
    {
      "cell_type": "code",
      "metadata": {
        "id": "zqcFEn5VulqK"
      },
      "source": [
        "inputs = tokenizer(table=table, queries=query_cases, padding='max_length', return_tensors=\"pt\", max_row_id=64, max_length=1357)#, max_length=2050)"
      ],
      "execution_count": null,
      "outputs": []
    },
    {
      "cell_type": "code",
      "metadata": {
        "id": "iWZzIJmauysS"
      },
      "source": [
        "class Cell:\n",
        "    text = None\n",
        "    numeric_value = None\n",
        "    def __init__(self, text, numeric_value=None):\n",
        "        text=text\n",
        "        numeric_value=numeric_value\n",
        "\n",
        "tb = input_df.iloc[:64,:].copy().astype('object')\n",
        "for row_index, row in tb.iterrows():\n",
        "  for col_index, cell in enumerate(row):\n",
        "      #print(row_index,col_index, row, cell)\n",
        "      #print(Cell(text=cell))\n",
        "      #print(tb.iloc[row_index, col_index])\n",
        "      tb.iloc[row_index, col_index] = Cell(text=cell)"
      ],
      "execution_count": null,
      "outputs": []
    },
    {
      "cell_type": "code",
      "metadata": {
        "colab": {
          "base_uri": "https://localhost:8080/"
        },
        "id": "go5sr_CnmAbp",
        "outputId": "cfa8aa2f-d1be-4bcc-f3f1-65bc7da35914"
      },
      "source": [
        "model(**inputs)"
      ],
      "execution_count": null,
      "outputs": [
        {
          "output_type": "execute_result",
          "data": {
            "text/plain": [
              "TableQuestionAnsweringOutput([('logits',\n",
              "                               tensor([[-10017.5879, -10017.5879, -10017.5879,  ..., -10017.5879,\n",
              "                                        -10017.5879, -10017.5879]], grad_fn=<ViewBackward>)),\n",
              "                              ('logits_aggregation',\n",
              "                               tensor([[ -1.9391, -10.1531,  17.2712, -17.3348]], grad_fn=<AddmmBackward>))])"
            ]
          },
          "metadata": {
            "tags": []
          },
          "execution_count": 21
        }
      ]
    },
    {
      "cell_type": "code",
      "metadata": {
        "id": "FtONlF0xmPTR"
      },
      "source": [
        "outputs = model(**inputs)"
      ],
      "execution_count": null,
      "outputs": []
    },
    {
      "cell_type": "code",
      "metadata": {
        "colab": {
          "base_uri": "https://localhost:8080/"
        },
        "id": "qSy2GZnumPVj",
        "outputId": "1d53fb66-043a-4537-928e-666beff905ad"
      },
      "source": [
        "\n",
        "predicted_answer_coordinates, predicted_aggregation_indices = tokenizer.convert_logits_to_predictions(\n",
        "         inputs,\n",
        "         outputs.logits.detach(),\n",
        "         outputs.logits_aggregation.detach()\n",
        " )\n",
        "\n",
        "# let's print out the results:\n",
        "id2aggregation = {0: \"NONE\", 1: \"SUM\", 2: \"AVERAGE\", 3:\"COUNT\"}\n",
        "aggregation_predictions_string = [id2aggregation[x] for x in predicted_aggregation_indices]\n",
        "\n",
        "answers = []\n",
        "for coordinates in predicted_answer_coordinates:\n",
        "   if len(coordinates) == 1:\n",
        "     # only a single cell:\n",
        "     answers.append(table.iat[coordinates[0]])\n",
        "   else:\n",
        "     # multiple cells\n",
        "     cell_values = []\n",
        "     for coordinate in coordinates:\n",
        "        cell_values.append(table.iat[coordinate])\n",
        "     answers.append(\", \".join(cell_values))\n",
        "\n",
        "print(\"\")\n",
        "for query, answer, predicted_agg in zip(query_cases, answers, aggregation_predictions_string):\n",
        "  print(query)\n",
        "  if predicted_agg == \"NONE\":\n",
        "    print(\"Predicted answer: \" + answer)\n",
        "  else:\n",
        "    print(\"Predicted answer: \" + predicted_agg + \" > \" + answer)"
      ],
      "execution_count": null,
      "outputs": [
        {
          "output_type": "stream",
          "text": [
            "\n",
            "What is the total recordable cases for private industry?\n",
            "Predicted answer: AVERAGE > 2.8\n",
            "What is the total recordable cases for oilseed farming?\n",
            "Predicted answer: AVERAGE > 5.7\n"
          ],
          "name": "stdout"
        }
      ]
    },
    {
      "cell_type": "code",
      "metadata": {
        "colab": {
          "base_uri": "https://localhost:8080/",
          "height": 1000
        },
        "id": "9euF7og6mPYM",
        "outputId": "8fdbca26-eaae-4fb7-d4d4-dff20252b6a3"
      },
      "source": [
        "input_df.iloc[:30]"
      ],
      "execution_count": null,
      "outputs": [
        {
          "output_type": "execute_result",
          "data": {
            "text/html": [
              "<div>\n",
              "<style scoped>\n",
              "    .dataframe tbody tr th:only-of-type {\n",
              "        vertical-align: middle;\n",
              "    }\n",
              "\n",
              "    .dataframe tbody tr th {\n",
              "        vertical-align: top;\n",
              "    }\n",
              "\n",
              "    .dataframe thead th {\n",
              "        text-align: right;\n",
              "    }\n",
              "</style>\n",
              "<table border=\"1\" class=\"dataframe\">\n",
              "  <thead>\n",
              "    <tr style=\"text-align: right;\">\n",
              "      <th></th>\n",
              "      <th>Industry(2) Unnamed: 0_level_1</th>\n",
              "      <th>NAICS code(3) Unnamed: 1_level_1</th>\n",
              "      <th>Total recordable cases Unnamed: 2_level_1</th>\n",
              "      <th>Cases with days away from work, job restriction, or transfer Total</th>\n",
              "      <th>Cases with days away from work, job restriction, or transfer Cases with days away from work(4)</th>\n",
              "      <th>Cases with days away from work, job restriction, or transfer Cases with days of job transfer or restriction</th>\n",
              "      <th>Other recordable cases Unnamed: 6_level_1</th>\n",
              "      <th>Other recordable cases Unnamed: 7_level_1</th>\n",
              "    </tr>\n",
              "  </thead>\n",
              "  <tbody>\n",
              "    <tr>\n",
              "      <th>0</th>\n",
              "      <td>All industries including private, state and lo...</td>\n",
              "      <td>-1</td>\n",
              "      <td>3</td>\n",
              "      <td>1.6</td>\n",
              "      <td>0.9</td>\n",
              "      <td>0.7</td>\n",
              "      <td>1.4</td>\n",
              "      <td>-1</td>\n",
              "    </tr>\n",
              "    <tr>\n",
              "      <th>1</th>\n",
              "      <td>Private industry(5)</td>\n",
              "      <td>-1</td>\n",
              "      <td>2.8</td>\n",
              "      <td>1.5</td>\n",
              "      <td>0.9</td>\n",
              "      <td>0.7</td>\n",
              "      <td>1.2</td>\n",
              "      <td>-1</td>\n",
              "    </tr>\n",
              "    <tr>\n",
              "      <th>2</th>\n",
              "      <td>Goods-producing(5)</td>\n",
              "      <td>-1</td>\n",
              "      <td>3.1</td>\n",
              "      <td>1.9</td>\n",
              "      <td>1</td>\n",
              "      <td>0.9</td>\n",
              "      <td>1.2</td>\n",
              "      <td>-1</td>\n",
              "    </tr>\n",
              "    <tr>\n",
              "      <th>3</th>\n",
              "      <td>Natural resources and mining(5)(6)</td>\n",
              "      <td>-1</td>\n",
              "      <td>3.4</td>\n",
              "      <td>2.1</td>\n",
              "      <td>1.2</td>\n",
              "      <td>0.9</td>\n",
              "      <td>1.3</td>\n",
              "      <td>-1</td>\n",
              "    </tr>\n",
              "    <tr>\n",
              "      <th>4</th>\n",
              "      <td>Agriculture, forestry, fishing and hunting(5)</td>\n",
              "      <td>11</td>\n",
              "      <td>5.2</td>\n",
              "      <td>3.2</td>\n",
              "      <td>1.7</td>\n",
              "      <td>1.5</td>\n",
              "      <td>2</td>\n",
              "      <td>-1</td>\n",
              "    </tr>\n",
              "    <tr>\n",
              "      <th>5</th>\n",
              "      <td>Crop production(5)</td>\n",
              "      <td>111</td>\n",
              "      <td>5.3</td>\n",
              "      <td>3.1</td>\n",
              "      <td>1.4</td>\n",
              "      <td>1.6</td>\n",
              "      <td>2.2</td>\n",
              "      <td>-1</td>\n",
              "    </tr>\n",
              "    <tr>\n",
              "      <th>6</th>\n",
              "      <td>Oilseed and grain farming(5)</td>\n",
              "      <td>1111</td>\n",
              "      <td>5.7</td>\n",
              "      <td>2.6</td>\n",
              "      <td>1.2</td>\n",
              "      <td>1.4</td>\n",
              "      <td>3.1</td>\n",
              "      <td>-1</td>\n",
              "    </tr>\n",
              "    <tr>\n",
              "      <th>7</th>\n",
              "      <td>Vegetable and melon farming(5)</td>\n",
              "      <td>1112</td>\n",
              "      <td>4.9</td>\n",
              "      <td>2.6</td>\n",
              "      <td>1.3</td>\n",
              "      <td>1.4</td>\n",
              "      <td>2.2</td>\n",
              "      <td>-1</td>\n",
              "    </tr>\n",
              "    <tr>\n",
              "      <th>8</th>\n",
              "      <td>Fruit and tree nut farming(5)</td>\n",
              "      <td>1113</td>\n",
              "      <td>5.9</td>\n",
              "      <td>3.7</td>\n",
              "      <td>1.7</td>\n",
              "      <td>1.9</td>\n",
              "      <td>2.3</td>\n",
              "      <td>-1</td>\n",
              "    </tr>\n",
              "    <tr>\n",
              "      <th>9</th>\n",
              "      <td>Greenhouse, nursery, and floriculture producti...</td>\n",
              "      <td>1114</td>\n",
              "      <td>5.1</td>\n",
              "      <td>2.9</td>\n",
              "      <td>1.2</td>\n",
              "      <td>1.7</td>\n",
              "      <td>2.2</td>\n",
              "      <td>-1</td>\n",
              "    </tr>\n",
              "    <tr>\n",
              "      <th>10</th>\n",
              "      <td>Other crop farming(5)</td>\n",
              "      <td>1119</td>\n",
              "      <td>4.2</td>\n",
              "      <td>2.5</td>\n",
              "      <td>1.5</td>\n",
              "      <td>1</td>\n",
              "      <td>1.7</td>\n",
              "      <td>-1</td>\n",
              "    </tr>\n",
              "    <tr>\n",
              "      <th>11</th>\n",
              "      <td>Animal production and aquaculture(5)</td>\n",
              "      <td>112</td>\n",
              "      <td>5.6</td>\n",
              "      <td>3.5</td>\n",
              "      <td>2.1</td>\n",
              "      <td>1.3</td>\n",
              "      <td>2.1</td>\n",
              "      <td>-1</td>\n",
              "    </tr>\n",
              "    <tr>\n",
              "      <th>12</th>\n",
              "      <td>Cattle ranching and farming(5)</td>\n",
              "      <td>1121</td>\n",
              "      <td>5.2</td>\n",
              "      <td>3.3</td>\n",
              "      <td>2.3</td>\n",
              "      <td>1</td>\n",
              "      <td>1.9</td>\n",
              "      <td>-1</td>\n",
              "    </tr>\n",
              "    <tr>\n",
              "      <th>13</th>\n",
              "      <td>Beef cattle ranching and farming, including fe...</td>\n",
              "      <td>11211</td>\n",
              "      <td>5.3</td>\n",
              "      <td>2.8</td>\n",
              "      <td>1.9</td>\n",
              "      <td>0.9</td>\n",
              "      <td>2.5</td>\n",
              "      <td>-1</td>\n",
              "    </tr>\n",
              "    <tr>\n",
              "      <th>14</th>\n",
              "      <td>Dairy cattle and milk production(5)</td>\n",
              "      <td>11212</td>\n",
              "      <td>5.2</td>\n",
              "      <td>3.4</td>\n",
              "      <td>2.4</td>\n",
              "      <td>1</td>\n",
              "      <td>1.7</td>\n",
              "      <td>-1</td>\n",
              "    </tr>\n",
              "    <tr>\n",
              "      <th>15</th>\n",
              "      <td>Hog and pig farming(5)</td>\n",
              "      <td>1122</td>\n",
              "      <td>7.5</td>\n",
              "      <td>3.8</td>\n",
              "      <td>1.9</td>\n",
              "      <td>1.9</td>\n",
              "      <td>3.7</td>\n",
              "      <td>-1</td>\n",
              "    </tr>\n",
              "    <tr>\n",
              "      <th>16</th>\n",
              "      <td>Poultry and egg production(5)</td>\n",
              "      <td>1123</td>\n",
              "      <td>5.2</td>\n",
              "      <td>3.5</td>\n",
              "      <td>1.4</td>\n",
              "      <td>2.1</td>\n",
              "      <td>1.7</td>\n",
              "      <td>-1</td>\n",
              "    </tr>\n",
              "    <tr>\n",
              "      <th>17</th>\n",
              "      <td>Other animal production(5)</td>\n",
              "      <td>1129</td>\n",
              "      <td>5.7</td>\n",
              "      <td>3.3</td>\n",
              "      <td>2</td>\n",
              "      <td>1.4</td>\n",
              "      <td>2.4</td>\n",
              "      <td>-1</td>\n",
              "    </tr>\n",
              "    <tr>\n",
              "      <th>18</th>\n",
              "      <td>Forestry and logging</td>\n",
              "      <td>113</td>\n",
              "      <td>2.8</td>\n",
              "      <td>2.4</td>\n",
              "      <td>2.2</td>\n",
              "      <td>0.2</td>\n",
              "      <td>0.4</td>\n",
              "      <td>-1</td>\n",
              "    </tr>\n",
              "    <tr>\n",
              "      <th>19</th>\n",
              "      <td>Logging</td>\n",
              "      <td>1133</td>\n",
              "      <td>2.7</td>\n",
              "      <td>2.3</td>\n",
              "      <td>2.1</td>\n",
              "      <td>0.2</td>\n",
              "      <td>0.4</td>\n",
              "      <td>-1</td>\n",
              "    </tr>\n",
              "    <tr>\n",
              "      <th>20</th>\n",
              "      <td>Fishing, hunting and trapping</td>\n",
              "      <td>114</td>\n",
              "      <td>4.6</td>\n",
              "      <td>3.2</td>\n",
              "      <td>2.3</td>\n",
              "      <td>–</td>\n",
              "      <td>1.5</td>\n",
              "      <td>-1</td>\n",
              "    </tr>\n",
              "    <tr>\n",
              "      <th>21</th>\n",
              "      <td>Fishing</td>\n",
              "      <td>1141</td>\n",
              "      <td>6</td>\n",
              "      <td>4.1</td>\n",
              "      <td>3</td>\n",
              "      <td>–</td>\n",
              "      <td>1.9</td>\n",
              "      <td>-1</td>\n",
              "    </tr>\n",
              "    <tr>\n",
              "      <th>22</th>\n",
              "      <td>Hunting and trapping</td>\n",
              "      <td>1142</td>\n",
              "      <td>–</td>\n",
              "      <td>–</td>\n",
              "      <td>–</td>\n",
              "      <td>–</td>\n",
              "      <td>–</td>\n",
              "      <td>-1</td>\n",
              "    </tr>\n",
              "    <tr>\n",
              "      <th>23</th>\n",
              "      <td>Support activities for agriculture and forestry</td>\n",
              "      <td>115</td>\n",
              "      <td>5.2</td>\n",
              "      <td>3.3</td>\n",
              "      <td>1.8</td>\n",
              "      <td>1.5</td>\n",
              "      <td>1.9</td>\n",
              "      <td>-1</td>\n",
              "    </tr>\n",
              "    <tr>\n",
              "      <th>24</th>\n",
              "      <td>Support activities for crop production</td>\n",
              "      <td>1151</td>\n",
              "      <td>5.4</td>\n",
              "      <td>3.5</td>\n",
              "      <td>1.8</td>\n",
              "      <td>1.7</td>\n",
              "      <td>1.9</td>\n",
              "      <td>-1</td>\n",
              "    </tr>\n",
              "    <tr>\n",
              "      <th>25</th>\n",
              "      <td>Support activities for crop production</td>\n",
              "      <td>11511</td>\n",
              "      <td>5.4</td>\n",
              "      <td>3.5</td>\n",
              "      <td>1.8</td>\n",
              "      <td>1.7</td>\n",
              "      <td>1.9</td>\n",
              "      <td>-1</td>\n",
              "    </tr>\n",
              "    <tr>\n",
              "      <th>26</th>\n",
              "      <td>Cotton ginning</td>\n",
              "      <td>115111</td>\n",
              "      <td>4.5</td>\n",
              "      <td>4.2</td>\n",
              "      <td>2.9</td>\n",
              "      <td>–</td>\n",
              "      <td>0.3</td>\n",
              "      <td>-1</td>\n",
              "    </tr>\n",
              "    <tr>\n",
              "      <th>27</th>\n",
              "      <td>Soil preparation, planting, and cultivating</td>\n",
              "      <td>115112</td>\n",
              "      <td>4.2</td>\n",
              "      <td>2.2</td>\n",
              "      <td>1.6</td>\n",
              "      <td>0.6</td>\n",
              "      <td>2</td>\n",
              "      <td>-1</td>\n",
              "    </tr>\n",
              "    <tr>\n",
              "      <th>28</th>\n",
              "      <td>Crop harvesting, primarily by machine</td>\n",
              "      <td>115113</td>\n",
              "      <td>6.4</td>\n",
              "      <td>3.8</td>\n",
              "      <td>2.1</td>\n",
              "      <td>1.7</td>\n",
              "      <td>2.6</td>\n",
              "      <td>-1</td>\n",
              "    </tr>\n",
              "    <tr>\n",
              "      <th>29</th>\n",
              "      <td>Farm labor contractors and crew leaders</td>\n",
              "      <td>115115</td>\n",
              "      <td>4.6</td>\n",
              "      <td>2.7</td>\n",
              "      <td>1.5</td>\n",
              "      <td>1.2</td>\n",
              "      <td>2</td>\n",
              "      <td>-1</td>\n",
              "    </tr>\n",
              "  </tbody>\n",
              "</table>\n",
              "</div>"
            ],
            "text/plain": [
              "                       Industry(2) Unnamed: 0_level_1  ... Other recordable cases Unnamed: 7_level_1\n",
              "0   All industries including private, state and lo...  ...                                        -1\n",
              "1                                 Private industry(5)  ...                                        -1\n",
              "2                                  Goods-producing(5)  ...                                        -1\n",
              "3                  Natural resources and mining(5)(6)  ...                                        -1\n",
              "4       Agriculture, forestry, fishing and hunting(5)  ...                                        -1\n",
              "5                                  Crop production(5)  ...                                        -1\n",
              "6                        Oilseed and grain farming(5)  ...                                        -1\n",
              "7                      Vegetable and melon farming(5)  ...                                        -1\n",
              "8                       Fruit and tree nut farming(5)  ...                                        -1\n",
              "9   Greenhouse, nursery, and floriculture producti...  ...                                        -1\n",
              "10                              Other crop farming(5)  ...                                        -1\n",
              "11               Animal production and aquaculture(5)  ...                                        -1\n",
              "12                     Cattle ranching and farming(5)  ...                                        -1\n",
              "13  Beef cattle ranching and farming, including fe...  ...                                        -1\n",
              "14                Dairy cattle and milk production(5)  ...                                        -1\n",
              "15                             Hog and pig farming(5)  ...                                        -1\n",
              "16                      Poultry and egg production(5)  ...                                        -1\n",
              "17                         Other animal production(5)  ...                                        -1\n",
              "18                               Forestry and logging  ...                                        -1\n",
              "19                                            Logging  ...                                        -1\n",
              "20                      Fishing, hunting and trapping  ...                                        -1\n",
              "21                                            Fishing  ...                                        -1\n",
              "22                               Hunting and trapping  ...                                        -1\n",
              "23    Support activities for agriculture and forestry  ...                                        -1\n",
              "24             Support activities for crop production  ...                                        -1\n",
              "25             Support activities for crop production  ...                                        -1\n",
              "26                                     Cotton ginning  ...                                        -1\n",
              "27        Soil preparation, planting, and cultivating  ...                                        -1\n",
              "28              Crop harvesting, primarily by machine  ...                                        -1\n",
              "29            Farm labor contractors and crew leaders  ...                                        -1\n",
              "\n",
              "[30 rows x 8 columns]"
            ]
          },
          "metadata": {
            "tags": []
          },
          "execution_count": 24
        }
      ]
    },
    {
      "cell_type": "code",
      "metadata": {
        "colab": {
          "base_uri": "https://localhost:8080/"
        },
        "id": "4HOIBnHDzl3g",
        "outputId": "69b8c692-2481-4bdd-fd35-109038dfe4bd"
      },
      "source": [
        "nlp(table=input_df.iloc[:64,:].astype('object'), query=\"What is the cases with days away from work for metal ore mining?\", padding='max_length')"
      ],
      "execution_count": null,
      "outputs": [
        {
          "output_type": "execute_result",
          "data": {
            "text/plain": [
              "{'aggregator': 'AVERAGE',\n",
              " 'answer': 'AVERAGE > 0.8',\n",
              " 'cells': ['0.8'],\n",
              " 'coordinates': [(44, 4)]}"
            ]
          },
          "metadata": {
            "tags": []
          },
          "execution_count": 25
        }
      ]
    },
    {
      "cell_type": "code",
      "metadata": {
        "id": "ZB9X7uhw1ZPY"
      },
      "source": [
        "#input_df.to_dict(orient='list')"
      ],
      "execution_count": null,
      "outputs": []
    },
    {
      "cell_type": "code",
      "metadata": {
        "colab": {
          "base_uri": "https://localhost:8080/",
          "height": 143
        },
        "id": "s1qmKTXC5C90",
        "outputId": "bb03cbd1-dae2-4d79-a382-5dd840ba276c"
      },
      "source": [
        "table_data_movies"
      ],
      "execution_count": null,
      "outputs": [
        {
          "output_type": "execute_result",
          "data": {
            "text/html": [
              "<div>\n",
              "<style scoped>\n",
              "    .dataframe tbody tr th:only-of-type {\n",
              "        vertical-align: middle;\n",
              "    }\n",
              "\n",
              "    .dataframe tbody tr th {\n",
              "        vertical-align: top;\n",
              "    }\n",
              "\n",
              "    .dataframe thead th {\n",
              "        text-align: right;\n",
              "    }\n",
              "</style>\n",
              "<table border=\"1\" class=\"dataframe\">\n",
              "  <thead>\n",
              "    <tr style=\"text-align: right;\">\n",
              "      <th></th>\n",
              "      <th>actors</th>\n",
              "      <th>age</th>\n",
              "      <th>number of movies</th>\n",
              "      <th>date of birth</th>\n",
              "    </tr>\n",
              "  </thead>\n",
              "  <tbody>\n",
              "    <tr>\n",
              "      <th>0</th>\n",
              "      <td>brad pitt</td>\n",
              "      <td>56</td>\n",
              "      <td>87</td>\n",
              "      <td>7 february 1967</td>\n",
              "    </tr>\n",
              "    <tr>\n",
              "      <th>1</th>\n",
              "      <td>leonardo di caprio</td>\n",
              "      <td>45</td>\n",
              "      <td>53</td>\n",
              "      <td>10 june 1996</td>\n",
              "    </tr>\n",
              "    <tr>\n",
              "      <th>2</th>\n",
              "      <td>george clooney</td>\n",
              "      <td>59</td>\n",
              "      <td>69</td>\n",
              "      <td>28 november 1967</td>\n",
              "    </tr>\n",
              "  </tbody>\n",
              "</table>\n",
              "</div>"
            ],
            "text/plain": [
              "               actors age number of movies     date of birth\n",
              "0           brad pitt  56               87   7 february 1967\n",
              "1  leonardo di caprio  45               53      10 june 1996\n",
              "2      george clooney  59               69  28 november 1967"
            ]
          },
          "metadata": {
            "tags": []
          },
          "execution_count": 27
        }
      ]
    },
    {
      "cell_type": "code",
      "metadata": {
        "id": "39thIKx9s6wm"
      },
      "source": [
        ""
      ],
      "execution_count": null,
      "outputs": []
    },
    {
      "cell_type": "markdown",
      "metadata": {
        "id": "U1GUOD5eM6T6"
      },
      "source": [
        "### Notes\n",
        "\n",
        "- In the [TaPas paper](https://www.aclweb.org/anthology/2020.acl-main.398.pdf), they explicitly specify that the model would not deal well with multiple tables & tables that do not fit in memory\n",
        "- Could possibly compress information in tables?\n",
        "- Limitations in parsing compositional structural questions: \"number of actorswith an average rating higher than 4\"\n",
        "\n",
        "- During pre-training, the model masks some tokens from the text segment and from the table itself, like in BERT, where the objective is to predict the original masked token based on the textual and tabular context.\n",
        "\n",
        "- For pre-training to be efficient, the authors restrict word piece sequence  length to a certain budget. That is, the combined length of tokenized text and table cells has to fit into this budget. To fit the budget, the authors randomly select a snippet of 8 to 16 word pieces from the associated text. To fit the table, they sequentially add one word of each column and cell in order until the bduget is reached. "
      ]
    },
    {
      "cell_type": "markdown",
      "metadata": {
        "id": "9jP2nkaMWdLA"
      },
      "source": [
        "![Screen Shot 2021-06-11 at 11.33.18 AM.png](data:image/png;base64,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)"
      ]
    },
    {
      "cell_type": "code",
      "metadata": {
        "id": "lL1kmAjqWQwZ"
      },
      "source": [
        ""
      ],
      "execution_count": null,
      "outputs": []
    }
  ]
}