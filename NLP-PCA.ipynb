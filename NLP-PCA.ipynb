{
 "cells": [
  {
   "cell_type": "code",
   "execution_count": 1,
   "metadata": {
    "collapsed": false
   },
   "outputs": [],
   "source": [
    "#tfidf\n",
    "\n",
    "def tf(word, doc):\n",
    "    doc_split = doc.lower().split()\n",
    "    counts = sum([1.0 for x in doc_split if x == word])\n",
    "    return sum([1.0 for x in doc_split if x == word]) / float(len(doc_split))\n",
    "\n",
    "def n_docs_containing_word(word, docs_list):\n",
    "    return sum([1 for word in docs_list if word in doc])\n",
    "\n",
    "def idf(word, docs_list):\n",
    "    return log(n_docs_containing_word(word) / 1 + len(docs_list))\n",
    "\n",
    "def tf_idf(word, doc, docs_list):\n",
    "    return tf(word, doc) *( idf(word, docs_list))\n",
    "\n",
    "\n"
   ]
  },
  {
   "cell_type": "code",
   "execution_count": 15,
   "metadata": {
    "collapsed": false
   },
   "outputs": [
    {
     "name": "stdout",
     "output_type": "stream",
     "text": [
      "0.166666666667\n"
     ]
    }
   ],
   "source": [
    "print tf(\"cat\", \" \".join(\"dog cat dog dog dog. dog\".split('.')))"
   ]
  },
  {
   "cell_type": "markdown",
   "metadata": {
    "slideshow": {
     "slide_type": "slide"
    }
   },
   "source": [
    "Hello"
   ]
  },
  {
   "cell_type": "code",
   "execution_count": 3,
   "metadata": {
    "collapsed": false
   },
   "outputs": [],
   "source": [
    "import numpy as np\n",
    "\n",
    "\n",
    "\n"
   ]
  },
  {
   "cell_type": "code",
   "execution_count": 82,
   "metadata": {
    "collapsed": false
   },
   "outputs": [],
   "source": [
    "#PCA\n",
    "#1. Compute the mean vector\n",
    " \n",
    "def mean_vector(nd_array):\n",
    "    #row vector for resulting means\n",
    "    res = np.ndarray(shape=(1,nd_array.shape[1]))\n",
    "    #number of columns (assuming dimensions are columns)\n",
    "    for x in xrange(nd_array.shape[1]):\n",
    "        res[0,x] = np.mean(nd_array[:,x])\n",
    "        \n",
    "    return res\n",
    "\n",
    "#2. Calculate the covariance matrix\n",
    "def cov_matrix(A):\n",
    "    return np.dot((A - mean_vector(A)).T, (A - mean_vector(A))) / (A.shape[0] - 1)\n",
    "\n",
    "\n",
    "#3. Get the eigenvectors of the covariance matrix\n",
    "def get_eig(A):\n",
    "    if A.shape[0] != A.shape[1]:\n",
    "        raise ValueError(\"Input matrix is not a square matrix\")\n",
    "    return np.linalg.eig(A)\n",
    "\n",
    "#4. Select the m eigenvectors that have the largest m eigenvalues to be the new basis\n",
    "#5. Project the data X onto the basis: Y = XV\n",
    "\n",
    "def project(A, eig, num_dims):\n",
    "    return np.dot(A, eig[:,:num_dims])\n",
    "\n",
    "def PCA(A, num_dims):\n",
    "    return project(A, get_eig(cov_matrix(A))[1], num_dims )"
   ]
  },
  {
   "cell_type": "code",
   "execution_count": 69,
   "metadata": {
    "collapsed": false
   },
   "outputs": [
    {
     "data": {
      "text/plain": [
       "array([[-0.5, -0.5, -1.5, -1.5, -1.5],\n",
       "       [ 0.5,  0.5,  1.5,  1.5,  1.5]])"
      ]
     },
     "execution_count": 69,
     "metadata": {},
     "output_type": "execute_result"
    }
   ],
   "source": [
    "np.array([[1, 2, 3, 4, 5], [2, 3, 6, 7, 8]]) - mean_vector(np.array([[1, 2, 3, 4, 5], [2, 3, 6, 7, 8]]))"
   ]
  },
  {
   "cell_type": "code",
   "execution_count": 70,
   "metadata": {
    "collapsed": false
   },
   "outputs": [
    {
     "data": {
      "text/plain": [
       "array([[ 0.5,  0.5,  1.5,  1.5,  1.5],\n",
       "       [ 0.5,  0.5,  1.5,  1.5,  1.5],\n",
       "       [ 1.5,  1.5,  4.5,  4.5,  4.5],\n",
       "       [ 1.5,  1.5,  4.5,  4.5,  4.5],\n",
       "       [ 1.5,  1.5,  4.5,  4.5,  4.5]])"
      ]
     },
     "execution_count": 70,
     "metadata": {},
     "output_type": "execute_result"
    }
   ],
   "source": [
    "np.cov(np.array([[1, 2, 3, 4, 5], [2, 3, 6, 7, 8]]), rowvar=0)"
   ]
  },
  {
   "cell_type": "code",
   "execution_count": 71,
   "metadata": {
    "collapsed": false
   },
   "outputs": [
    {
     "data": {
      "text/plain": [
       "array([[ 0.5,  0.5,  1.5,  1.5,  1.5],\n",
       "       [ 0.5,  0.5,  1.5,  1.5,  1.5],\n",
       "       [ 1.5,  1.5,  4.5,  4.5,  4.5],\n",
       "       [ 1.5,  1.5,  4.5,  4.5,  4.5],\n",
       "       [ 1.5,  1.5,  4.5,  4.5,  4.5]])"
      ]
     },
     "execution_count": 71,
     "metadata": {},
     "output_type": "execute_result"
    }
   ],
   "source": [
    "cov_matrix(np.array([[1, 2, 3, 4, 5], [2, 3, 6, 7, 8]]))"
   ]
  },
  {
   "cell_type": "code",
   "execution_count": 72,
   "metadata": {
    "collapsed": false
   },
   "outputs": [
    {
     "data": {
      "text/plain": [
       "array([[1, 2, 3, 4, 5],\n",
       "       [2, 3, 6, 7, 8]])"
      ]
     },
     "execution_count": 72,
     "metadata": {},
     "output_type": "execute_result"
    }
   ],
   "source": [
    "np.array([[1, 2, 3, 4, 5], [2, 3, 6, 7, 8]])"
   ]
  },
  {
   "cell_type": "code",
   "execution_count": 78,
   "metadata": {
    "collapsed": false
   },
   "outputs": [
    {
     "data": {
      "text/plain": [
       "(array([  0. ,  14.5,   0. ,   0. ,   0. ]),\n",
       " array([[ -9.82607369e-01,   1.85695338e-01,   0.00000000e+00,\n",
       "           0.00000000e+00,   0.00000000e+00],\n",
       "        [  3.50931203e-02,   1.85695338e-01,   9.81980506e-01,\n",
       "           0.00000000e+00,   1.65004432e-17],\n",
       "        [  1.05279361e-01,   5.57086015e-01,  -1.09108945e-01,\n",
       "          -5.77350269e-01,  -5.77350269e-01],\n",
       "        [  1.05279361e-01,   5.57086015e-01,  -1.09108945e-01,\n",
       "           7.88675135e-01,  -2.11324865e-01],\n",
       "        [  1.05279361e-01,   5.57086015e-01,  -1.09108945e-01,\n",
       "          -2.11324865e-01,   7.88675135e-01]]))"
      ]
     },
     "execution_count": 78,
     "metadata": {},
     "output_type": "execute_result"
    }
   ],
   "source": [
    "get_eig(cov_matrix(np.array([[1, 2, 3, 4, 5], [2, 3, 6, 7, 8]])))"
   ]
  },
  {
   "cell_type": "code",
   "execution_count": 84,
   "metadata": {
    "collapsed": false
   },
   "outputs": [
    {
     "data": {
      "text/plain": [
       "array([[  0.3509312 ,   7.24211819],\n",
       "       [  0.3509312 ,  12.627283  ]])"
      ]
     },
     "execution_count": 84,
     "metadata": {},
     "output_type": "execute_result"
    }
   ],
   "source": [
    "A = np.array([[1, 2, 3, 4, 5], [2, 3, 6, 7, 8]])\n",
    "PCA(A, 2)"
   ]
  },
  {
   "cell_type": "code",
   "execution_count": null,
   "metadata": {
    "collapsed": true
   },
   "outputs": [],
   "source": []
  },
  {
   "cell_type": "code",
   "execution_count": null,
   "metadata": {
    "collapsed": true
   },
   "outputs": [],
   "source": []
  }
 ],
 "metadata": {
  "kernelspec": {
   "display_name": "Python 2",
   "language": "python",
   "name": "python2"
  },
  "language_info": {
   "codemirror_mode": {
    "name": "ipython",
    "version": 2
   },
   "file_extension": ".py",
   "mimetype": "text/x-python",
   "name": "python",
   "nbconvert_exporter": "python",
   "pygments_lexer": "ipython2",
   "version": "2.7.2"
  }
 },
 "nbformat": 4,
 "nbformat_minor": 0
}
