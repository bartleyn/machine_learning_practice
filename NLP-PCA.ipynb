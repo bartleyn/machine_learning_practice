{
 "metadata": {
  "name": "",
  "signature": "sha256:3ba3077409a5e0952e4b2a418d1cda83303fa0c2e59dd3bda628727e8aaa7c44"
 },
 "nbformat": 3,
 "nbformat_minor": 0,
 "worksheets": [
  {
   "cells": [
    {
     "cell_type": "code",
     "collapsed": false,
     "input": [
      "#tfidf\n",
      "\n",
      "def tf(word, doc):\n",
      "    doc_split = doc.lower().split()\n",
      "    counts = sum([1.0 for x in doc_split if x == word])\n",
      "    return sum([1.0 for x in doc_split if x == word]) / float(len(doc_split))\n",
      "\n",
      "def n_docs_containing_word(word, docs_list):\n",
      "    return sum([1 for word in docs_list if word in doc])\n",
      "\n",
      "def idf(word, docs_list):\n",
      "    return log(n_docs_containing_word(word) / 1 + len(docs_list))\n",
      "\n",
      "def tf_idf(word, doc, docs_list):\n",
      "    return tf(word, doc) *( idf(word, docs_list))\n",
      "\n",
      "\n"
     ],
     "language": "python",
     "metadata": {},
     "outputs": [],
     "prompt_number": 1
    },
    {
     "cell_type": "code",
     "collapsed": false,
     "input": [
      "print tf(\"cat\", \" \".join(\"dog cat dog dog dog. dog\".split('.')))"
     ],
     "language": "python",
     "metadata": {},
     "outputs": [
      {
       "output_type": "stream",
       "stream": "stdout",
       "text": [
        "0.166666666667\n"
       ]
      }
     ],
     "prompt_number": 15
    },
    {
     "cell_type": "markdown",
     "metadata": {
      "slideshow": {
       "slide_type": "slide"
      }
     },
     "source": [
      "Hello"
     ]
    },
    {
     "cell_type": "code",
     "collapsed": false,
     "input": [
      "\n",
      "\n",
      "\n",
      "\n",
      "\n",
      "\n",
      "\n"
     ],
     "language": "python",
     "metadata": {},
     "outputs": [],
     "prompt_number": 0
    },
    {
     "cell_type": "code",
     "collapsed": false,
     "input": [
      "#PCA\n",
      "#1. Compute the mean vector\n",
      " \n",
      "def mean_vector(nd_array):\n",
      "    #row vector for resulting means\n",
      "    res = np.ndarray(shape=(1,nd_array.shape[1]))\n",
      "    #number of columns (assuming dimensions are columns)\n",
      "    for x in nd_array.shape[1]:\n",
      "        res[x] = np.mean(nd_array[:,x])\n",
      "        \n",
      "    return res\n",
      "\n",
      "#2. Calculate the covariance matrix\n",
      "\n",
      "\n",
      "#3. Get the eigenvectors of the covariance matrix\n",
      "#4. Select the m eigenvectors that have the largest m eigenvalues to be the new basis\n",
      "#5. Project the data X onto the basis: Y = XV\n",
      "\n"
     ],
     "language": "python",
     "metadata": {},
     "outputs": []
    }
   ],
   "metadata": {}
  }
 ]
}